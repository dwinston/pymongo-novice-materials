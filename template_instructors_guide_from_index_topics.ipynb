{
 "cells": [
  {
   "cell_type": "markdown",
   "metadata": {},
   "source": [
    "Takes the list of Topics in `index.md` and appends templates for each to the end of `instructors.md`."
   ]
  },
  {
   "cell_type": "code",
   "execution_count": 39,
   "metadata": {
    "collapsed": true
   },
   "outputs": [],
   "source": [
    "placeholder_points_and_discussion = \"\"\"\n",
    "* Point\n",
    "\n",
    "* Point\n",
    "\n",
    "1.  Discussion of first challenge.\n",
    "\n",
    "2.  Discussion of second challenge.\n",
    "\n",
    "\"\"\""
   ]
  },
  {
   "cell_type": "code",
   "execution_count": 36,
   "metadata": {
    "collapsed": false
   },
   "outputs": [],
   "source": [
    "import re\n",
    "\n",
    "topic_headers = []\n",
    "with open('index.md', 'r') as f:\n",
    "    slurp = False\n",
    "    for line in f:\n",
    "        if slurp and line.strip().endswith('.html)'):\n",
    "            header = re.sub('\\d+\\.\\s+', '## ', line)\n",
    "            topic_headers.append(header)\n",
    "        if line.startswith('## Topics'):\n",
    "            slurp = True\n",
    "        if line.startswith('## Other Resources'):\n",
    "            slurp = False"
   ]
  },
  {
   "cell_type": "code",
   "execution_count": 38,
   "metadata": {
    "collapsed": false
   },
   "outputs": [],
   "source": [
    "with open('instructors.md', 'a') as f:\n",
    "    for header_line in topic_headers:\n",
    "        f.write(header_line)\n",
    "        f.write(placeholder_points_and_discussion)"
   ]
  }
 ],
 "metadata": {
  "kernelspec": {
   "display_name": "Python 2",
   "language": "python",
   "name": "python2"
  },
  "language_info": {
   "codemirror_mode": {
    "name": "ipython",
    "version": 2
   },
   "file_extension": ".py",
   "mimetype": "text/x-python",
   "name": "python",
   "nbconvert_exporter": "python",
   "pygments_lexer": "ipython2",
   "version": "2.7.10"
  }
 },
 "nbformat": 4,
 "nbformat_minor": 0
}
