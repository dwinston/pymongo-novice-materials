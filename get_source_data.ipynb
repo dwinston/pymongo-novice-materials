{
 "cells": [
  {
   "cell_type": "markdown",
   "metadata": {},
   "source": [
    "This is in how `data/mongo-novice-materials.json` was built.\n",
    "\n",
    "See https://github.com/materialsproject/mapidoc for details.\n",
    "\n",
    "This notebook using the `pymatgen` and `funcy` third-party packages."
   ]
  },
  {
   "cell_type": "code",
   "execution_count": 1,
   "metadata": {
    "collapsed": false
   },
   "outputs": [],
   "source": [
    "from pymatgen import MPRester\n",
    "mpr = MPRester()"
   ]
  },
  {
   "cell_type": "code",
   "execution_count": 2,
   "metadata": {
    "collapsed": true
   },
   "outputs": [],
   "source": [
    "materials = mpr.query({},[\n",
    "    'material_id',\n",
    "    'spacegroup',\n",
    "    'elements',\n",
    "    'nelements',\n",
    "    'elasticity',\n",
    "    'pretty_formula',\n",
    "    'chemsys'\n",
    "])"
   ]
  },
  {
   "cell_type": "code",
   "execution_count": 5,
   "metadata": {
    "collapsed": false
   },
   "outputs": [],
   "source": [
    "import json\n",
    "\n",
    "with open('data/mongo-novice-materials.json', 'w') as f:\n",
    "    json.dump(materials, f)"
   ]
  },
  {
   "cell_type": "code",
   "execution_count": 10,
   "metadata": {
    "collapsed": false
   },
   "outputs": [
    {
     "name": "stdout",
     "output_type": "stream",
     "text": [
      " 20M\tdata/mongo-novice-materials.json\r\n"
     ]
    }
   ],
   "source": [
    "!du -h data/mongo-novice-materials.json"
   ]
  },
  {
   "cell_type": "markdown",
   "metadata": {},
   "source": [
    "## Post-processing"
   ]
  },
  {
   "cell_type": "code",
   "execution_count": 3,
   "metadata": {
    "collapsed": false,
    "scrolled": false
   },
   "outputs": [],
   "source": [
    "import json\n",
    "\n",
    "with open('data/mongo-novice-materials.json') as f:\n",
    "    materials = json.load(f)"
   ]
  },
  {
   "cell_type": "code",
   "execution_count": 4,
   "metadata": {
    "collapsed": true
   },
   "outputs": [],
   "source": [
    "# JSON keys specified by doi:10.1038/sdata.2015.9\n",
    "elasticity_blessed_keys = [\n",
    "    'elastic_tensor',\n",
    "    'K_Voigt',\n",
    "    'K_Reuss',\n",
    "    'G_Voigt',\n",
    "    'G_Reuss',\n",
    "    'K_VRH',\n",
    "    'G_VRH',\n",
    "    'elastic_anisotropy',\n",
    "    'poisson_ratio',\n",
    "    'calculations', # not in doi:10.1038/sdata.2015.9, but include it\n",
    "]"
   ]
  },
  {
   "cell_type": "code",
   "execution_count": 8,
   "metadata": {
    "collapsed": false
   },
   "outputs": [],
   "source": [
    "for m in materials:\n",
    "    if not m.get('elasticity'):\n",
    "        continue\n",
    "    elasticity = m['elasticity']\n",
    "    for k in list(elasticity.keys()):\n",
    "        if k not in elasticity_blessed_keys:\n",
    "            del elasticity[k]\n",
    "\n",
    "for m in materials:\n",
    "    if m.get('elasticity'):\n",
    "        assert 'homogeneous_poisson' not in m['elasticity'].keys()"
   ]
  },
  {
   "cell_type": "code",
   "execution_count": 9,
   "metadata": {
    "collapsed": false
   },
   "outputs": [],
   "source": [
    "import json\n",
    "\n",
    "with open('data/mongo-novice-materials.json', 'w') as f:\n",
    "    json.dump(materials, f)"
   ]
  },
  {
   "cell_type": "code",
   "execution_count": 11,
   "metadata": {
    "collapsed": false
   },
   "outputs": [
    {
     "name": "stdout",
     "output_type": "stream",
     "text": [
      " 20M\tdata/mongo-novice-materials.json\r\n"
     ]
    }
   ],
   "source": [
    "!du -h data/mongo-novice-materials.json"
   ]
  }
 ],
 "metadata": {
  "kernelspec": {
   "display_name": "Python 3",
   "language": "python",
   "name": "python3"
  },
  "language_info": {
   "codemirror_mode": {
    "name": "ipython",
    "version": 3
   },
   "file_extension": ".py",
   "mimetype": "text/x-python",
   "name": "python",
   "nbconvert_exporter": "python",
   "pygments_lexer": "ipython3",
   "version": "3.5.0"
  }
 },
 "nbformat": 4,
 "nbformat_minor": 0
}
