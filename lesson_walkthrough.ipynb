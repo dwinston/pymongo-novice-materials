{
 "cells": [
  {
   "cell_type": "markdown",
   "metadata": {},
   "source": [
    "# Lesson Walkthrough"
   ]
  },
  {
   "cell_type": "markdown",
   "metadata": {},
   "source": [
    "This notebook walks through the material for each of the lesson topics, in order, to ensure they run. This notebook is *not* the \"source\" for the lesson material, e.g. through `pandoc` conversion. It is rather an environment to quickly sketch out and test ideas for lesson development."
   ]
  },
  {
   "cell_type": "markdown",
   "metadata": {},
   "source": [
    "## Introduction (to the lesson overall)"
   ]
  },
  {
   "cell_type": "markdown",
   "metadata": {},
   "source": [
    "This lesson introduces MongoDB, a document-oriented database that departs from the relational nature of SQL. Because SQL is so well-established and prevalent as a database technology, the terms \"relational database\" and \"SQL\" are often synonymous. Furthermore, the term \"NoSQL\" has come to encompass a whole class of database technologies that are non-relational in nature. There are other \"NoSQL\" technologies such as key-value stores and column stores that differ from MongoDB's document/collection approach, but we will only cover MongoDB today.\n",
    "\n",
    "MongoDB trades off the strictness of SQL for a degree of simplicity and flexibility often desirable for scientists who MongoDB trades off the strictness of SQL for a degree of simplicity and\n",
    "flexibility often desirable for scientists who are often not certain about the\n",
    "best schema design for new/changing data sets. Whereas SQL lends itself well to\n",
    "enforcing a schema and thus ensuring data validation at the database level, a\n",
    "system like MongoDB does not require setting/migrating schemas to get started\n",
    "with data management. However, this means that application-level data\n",
    "validation (e.g. before adding to the database) is particularly\n",
    "important. MongoDB can pick up on implicit schema in your data through the\n",
    "creation of indexes, which will speed up queries significantly for large data\n",
    "sets.\n",
    "\n",
    "This lesson was originally developed \n",
    "at the [Lawrence Berkeley National Laboratory](http://lbl.gov), where many scientists use MongoDB servers hosted by [NERSC](http://nersc.gov) to [manage workflows](https://pythonhosted.org/FireWorks/) and [process data](https://pythonhosted.org/pymatgen-db/) on supercomputing clusters. The example data for this lesson is from the [Materials Project](https://materialsproject.org), which hosts computed information for tens of thousands of known and predicted inorganic crystalline compounds."
   ]
  },
  {
   "cell_type": "markdown",
   "metadata": {},
   "source": [
    "## Prerequisites"
   ]
  },
  {
   "cell_type": "code",
   "execution_count": null,
   "metadata": {
    "collapsed": true
   },
   "outputs": [],
   "source": []
  },
  {
   "cell_type": "markdown",
   "metadata": {},
   "source": [
    "## Getting Ready"
   ]
  },
  {
   "cell_type": "code",
   "execution_count": null,
   "metadata": {
    "collapsed": true
   },
   "outputs": [],
   "source": []
  },
  {
   "cell_type": "markdown",
   "metadata": {},
   "source": [
    "## Introduction/Setup"
   ]
  },
  {
   "cell_type": "markdown",
   "metadata": {},
   "source": [
    "I'd like at least two challenges per topic. A challenge should be a multiple-choice question (MCQ) or a Parson problem. Likely will be two MCQs. Come up with these first, then base the topic material on it."
   ]
  },
  {
   "cell_type": "markdown",
   "metadata": {},
   "source": [
    "## Connect to / Import into a Mock Database"
   ]
  },
  {
   "cell_type": "markdown",
   "metadata": {},
   "source": [
    "To accommodate folks who cannot get a real database server running locally on their system, and also to demonstrate the utility of \"mocking\" for testing real access patterns without an external dependency, we will use the `mongomock` Python library to walk through MongoDB ideas for the first few topics. If you have a Mongo server running, feel free to use `pymongo.MongoClient` instead."
   ]
  },
  {
   "cell_type": "markdown",
   "metadata": {},
   "source": [
    "First, let's connect to the (mock) server an get a handle for our client."
   ]
  },
  {
   "cell_type": "code",
   "execution_count": 207,
   "metadata": {
    "collapsed": true
   },
   "outputs": [],
   "source": [
    "import json\n",
    "from mongomock import MongoClient\n",
    "from pymongo import MongoClient\n",
    "\n",
    "def reset_materials():\n",
    "    client = MongoClient()\n",
    "    db = client.swc\n",
    "    db.materials.drop()\n",
    "    with open('data/mongo-novice-materials.json') as f:\n",
    "        db.materials.insert_many(json.load(f))"
   ]
  },
  {
   "cell_type": "code",
   "execution_count": 1,
   "metadata": {
    "collapsed": true
   },
   "outputs": [],
   "source": [
    "from mongomock import MongoClient\n",
    "from pymongo import MongoClient\n",
    "\n",
    "client = MongoClient()"
   ]
  },
  {
   "cell_type": "markdown",
   "metadata": {},
   "source": [
    "A MongoDB instance can host multiple databases, which are created dynamically. Here, we will supply a database name as an attribute of the client object, which will prompt MongoDB to create the database with that name if it doesn't exists."
   ]
  },
  {
   "cell_type": "code",
   "execution_count": 2,
   "metadata": {
    "collapsed": false
   },
   "outputs": [
    {
     "name": "stdout",
     "output_type": "stream",
     "text": [
      "Database(MongoClient(host=['localhost:27017'], document_class=dict, tz_aware=False, connect=True), 'swc')\n"
     ]
    }
   ],
   "source": [
    "# Refer to the Software Carpentry (\"swc\") database\n",
    "db = client.swc\n",
    "print(db)"
   ]
  },
  {
   "cell_type": "markdown",
   "metadata": {},
   "source": [
    "In Python, we can `print` something to look at it's string representation, which is often designed to be human-readable and can give us an idea of what's going on. We see here that what we're calling `db` is a Database with the name \"swc\" that we're accessing through a Mongo client connected to localhost on port 27017."
   ]
  },
  {
   "cell_type": "code",
   "execution_count": 3,
   "metadata": {
    "collapsed": false
   },
   "outputs": [
    {
     "name": "stdout",
     "output_type": "stream",
     "text": [
      "Collection(Database(MongoClient(host=['localhost:27017'], document_class=dict, tz_aware=False, connect=True), 'swc'), 'materials')\n"
     ]
    }
   ],
   "source": [
    "print(db.materials)"
   ]
  },
  {
   "cell_type": "markdown",
   "metadata": {},
   "source": [
    "A MongoDB database is organized as a set of collections, each of which contains a set of documents. To first order, you can for now think of a collection as corresponding to a table in SQL and a collection document as corresponding to a table row in SQL.\n",
    "\n",
    "Just as with databases themselves, database collections are created dynamically in MongoDB. Above, we created a `materials` collection in our database simply by referring to it by name.\n",
    "\n",
    "Now, let's load data from a file and import it as documents into our collection:"
   ]
  },
  {
   "cell_type": "code",
   "execution_count": 4,
   "metadata": {
    "collapsed": true
   },
   "outputs": [],
   "source": [
    "import json"
   ]
  },
  {
   "cell_type": "markdown",
   "metadata": {},
   "source": [
    "We first import the `json` module from the Python standard library. `JSON`, which stands for \"Javascript Object Notation\", is a way to express simple data structures that is widely used in web-based applications. We'll go over the format in the next topic when we construct a document to insert into our collection, but for now let's focus on importing data that we're given."
   ]
  },
  {
   "cell_type": "code",
   "execution_count": 5,
   "metadata": {
    "collapsed": true
   },
   "outputs": [],
   "source": [
    "db.materials.drop()\n",
    "with open('data/mongo-novice-materials.json') as f:\n",
    "    db.materials.insert_many(json.load(f))"
   ]
  },
  {
   "cell_type": "markdown",
   "metadata": {},
   "source": [
    "We are using a Python context manager to open a file and ensure that it is closed when we are done processing the file contents. In this case, we use the `json` module to load the file contents as Python-native data structures, which we then hand off to the `insert_many` method of database collections to insert all of the loaded documents."
   ]
  },
  {
   "cell_type": "code",
   "execution_count": 6,
   "metadata": {
    "collapsed": false
   },
   "outputs": [
    {
     "data": {
      "text/plain": [
       "66140"
      ]
     },
     "execution_count": 6,
     "metadata": {},
     "output_type": "execute_result"
    }
   ],
   "source": [
    "db.materials.count()"
   ]
  },
  {
   "cell_type": "markdown",
   "metadata": {},
   "source": [
    "To confirm we have the data loaded, we use the `count()` method of a collection object and see that we have more than zero documents in our `materials` collection."
   ]
  },
  {
   "cell_type": "code",
   "execution_count": 49,
   "metadata": {
    "collapsed": false
   },
   "outputs": [],
   "source": [
    "with open('data/mongo-novice-materials.json') as f:\n",
    "    dataset = json.load(f)"
   ]
  },
  {
   "cell_type": "code",
   "execution_count": 50,
   "metadata": {
    "collapsed": false
   },
   "outputs": [
    {
     "name": "stdout",
     "output_type": "stream",
     "text": [
      "<class 'list'>\n",
      "<class 'dict'>\n"
     ]
    }
   ],
   "source": [
    "print(type(dataset))\n",
    "print(type(dataset[0]))"
   ]
  },
  {
   "cell_type": "code",
   "execution_count": 51,
   "metadata": {
    "collapsed": false
   },
   "outputs": [
    {
     "data": {
      "text/plain": [
       "0"
      ]
     },
     "execution_count": 51,
     "metadata": {},
     "output_type": "execute_result"
    }
   ],
   "source": [
    "db.publications.count()"
   ]
  },
  {
   "cell_type": "markdown",
   "metadata": {},
   "source": [
    "## Insert Data"
   ]
  },
  {
   "cell_type": "code",
   "execution_count": 52,
   "metadata": {
    "collapsed": false,
    "scrolled": true
   },
   "outputs": [
    {
     "name": "stdout",
     "output_type": "stream",
     "text": [
      "--2016-02-24 16:35:05--  https://raw.githubusercontent.com/materialsproject/pymatgen/master/pymatgen/core/periodic_table.json\n",
      "Resolving raw.githubusercontent.com... 199.27.79.133\n",
      "Connecting to raw.githubusercontent.com|199.27.79.133|:443... connected.\n",
      "HTTP request sent, awaiting response... 200 OK\n",
      "Length: 120293 (117K) [text/plain]\n",
      "Saving to: 'data/periodic_table.json'\n",
      "\n",
      "data/periodic_table 100%[=====================>] 117.47K  --.-KB/s   in 0.1s   \n",
      "\n",
      "2016-02-24 16:35:06 (853 KB/s) - 'data/periodic_table.json' saved [120293/120293]\n",
      "\n"
     ]
    }
   ],
   "source": [
    "!wget \"https://raw.githubusercontent.com/materialsproject/pymatgen/master/pymatgen/core/periodic_table.json\" -O data/periodic_table.json"
   ]
  },
  {
   "cell_type": "code",
   "execution_count": 53,
   "metadata": {
    "collapsed": true
   },
   "outputs": [],
   "source": [
    "import json\n",
    "with open('data/periodic_table.json') as f:\n",
    "    periodic_table = json.load(f)"
   ]
  },
  {
   "cell_type": "code",
   "execution_count": 54,
   "metadata": {
    "collapsed": false
   },
   "outputs": [],
   "source": [
    "from operator import itemgetter\n",
    "def pluck(key, mappings):\n",
    "    return map(itemgetter(key), mappings)"
   ]
  },
  {
   "cell_type": "code",
   "execution_count": 55,
   "metadata": {
    "collapsed": false
   },
   "outputs": [
    {
     "data": {
      "text/plain": [
       "<pymongo.results.InsertManyResult at 0x10c778ea0>"
      ]
     },
     "execution_count": 55,
     "metadata": {},
     "output_type": "execute_result"
    }
   ],
   "source": [
    "db.elements.insert_many([v for v in periodic_table.values()])"
   ]
  },
  {
   "cell_type": "code",
   "execution_count": 56,
   "metadata": {
    "collapsed": false
   },
   "outputs": [],
   "source": [
    "def project_only(*keys):\n",
    "    doc = {\"_id\": 0}\n",
    "    doc.update({k: 1 for k in keys})\n",
    "    return doc"
   ]
  },
  {
   "cell_type": "code",
   "execution_count": 57,
   "metadata": {
    "collapsed": false
   },
   "outputs": [
    {
     "data": {
      "text/plain": [
       "{'Atomic mass': 63.546,\n",
       " 'Atomic no': 29,\n",
       " 'Atomic radius': 1.35,\n",
       " 'Atomic radius calculated': 1.45,\n",
       " 'Boiling point': '3200 K',\n",
       " 'Brinell hardness': '874 MN m<sup>-2</sup>',\n",
       " 'Bulk modulus': '140 GPa',\n",
       " 'Coefficient of linear thermal expansion': '16.5 x10<sup>-6</sup>K<sup>-1</sup>',\n",
       " 'Common oxidation states': [2],\n",
       " 'Critical temperature': 'no data K',\n",
       " 'Density of solid': '8920 kg m<sup>-3</sup>',\n",
       " 'Electrical resistivity': '1.72 10<sup>-8</sup> &Omega; m',\n",
       " 'Electronic structure': '[Ar].3d<sup>10</sup>.4s<sup>1</sup>',\n",
       " 'Ionic radii': {'1': 0.91, '2': 0.87, '3': 0.68},\n",
       " 'Liquid range': '1842.23 K',\n",
       " 'Melting point': '1357.77 K',\n",
       " 'Mendeleev no': 72,\n",
       " 'Mineral hardness': '3.0',\n",
       " 'Molar volume': '7.11 cm<sup>3</sup>',\n",
       " 'Name': 'Copper',\n",
       " 'Oxidation states': [1, 2, 3, 4],\n",
       " 'Poissons ratio': '0.34',\n",
       " 'Reflectivity': '90 %',\n",
       " 'Refractive index': 'no data',\n",
       " 'Rigidity modulus': '48 GPa',\n",
       " 'Superconduction temperature': 'no data K',\n",
       " 'Thermal conductivity': '400 W m<sup>-1</sup> K<sup>-1</sup>',\n",
       " 'Van der waals radius': 1.4,\n",
       " 'Velocity of sound': '3570 m s<sup>-1</sup>',\n",
       " 'Vickers hardness': '369 MN m<sup>-2</sup>',\n",
       " 'X': 1.9,\n",
       " 'Youngs modulus': '130 GPa',\n",
       " '_id': ObjectId('56ce4c3b7943f62692bfb274')}"
      ]
     },
     "execution_count": 57,
     "metadata": {},
     "output_type": "execute_result"
    }
   ],
   "source": [
    "periodic_table['Cu']"
   ]
  },
  {
   "cell_type": "code",
   "execution_count": 58,
   "metadata": {
    "collapsed": false
   },
   "outputs": [
    {
     "data": {
      "text/plain": [
       "[{'Atomic no': 12, 'Name': 'Magnesium'},\n",
       " {'Atomic no': 39, 'Name': 'Yttrium'},\n",
       " {'Atomic no': 23, 'Name': 'Vanadium'}]"
      ]
     },
     "execution_count": 58,
     "metadata": {},
     "output_type": "execute_result"
    }
   ],
   "source": [
    "[d for d in db.elements.find({}, project_only('Name', 'Atomic no')).limit(3)]"
   ]
  },
  {
   "cell_type": "code",
   "execution_count": 59,
   "metadata": {
    "collapsed": false
   },
   "outputs": [
    {
     "data": {
      "text/plain": [
       "[{'material_id': 'mp-568345', 'nelements': 1, 'pretty_formula': 'Fe'},\n",
       " {'material_id': 'mp-12671', 'nelements': 3, 'pretty_formula': 'Er2SO2'},\n",
       " {'material_id': 'mp-1703', 'nelements': 2, 'pretty_formula': 'YbZn'}]"
      ]
     },
     "execution_count": 59,
     "metadata": {},
     "output_type": "execute_result"
    }
   ],
   "source": [
    "[d for d in db.materials.find({}, project_only('material_id', 'pretty_formula', 'nelements')).limit(3)]"
   ]
  },
  {
   "cell_type": "code",
   "execution_count": 60,
   "metadata": {
    "collapsed": false
   },
   "outputs": [
    {
     "data": {
      "text/plain": [
       "{'_id': ObjectId('56ce4c367943f62692beb011'),\n",
       " 'chemsys': 'Na-O',\n",
       " 'elasticity': None,\n",
       " 'elements': ['Na', 'O'],\n",
       " 'material_id': 'mp-2340',\n",
       " 'nelements': 2,\n",
       " 'pretty_formula': 'Na2O2',\n",
       " 'spacegroup': {'crystal_system': 'hexagonal',\n",
       "  'hall': 'P -6 -2',\n",
       "  'number': 189,\n",
       "  'point_group': '-6m2',\n",
       "  'source': 'spglib',\n",
       "  'symbol': 'P-62m'}}"
      ]
     },
     "execution_count": 60,
     "metadata": {},
     "output_type": "execute_result"
    }
   ],
   "source": [
    "db.materials.find_one({\"chemsys\": \"Na-O\"})"
   ]
  },
  {
   "cell_type": "code",
   "execution_count": 61,
   "metadata": {
    "collapsed": false
   },
   "outputs": [],
   "source": [
    "from datetime import datetime\n",
    "material = {\"fake\": True,\n",
    "            \"elements\": [\"Na\", \"O\"],\n",
    "            \"band_gap\": 1.736,\n",
    "            \"last_updated\": datetime.utcnow(),\n",
    "            \"spacegroup\": {\"crystal_system\": \"hexagonal\", \"number\": 189}}"
   ]
  },
  {
   "cell_type": "code",
   "execution_count": 62,
   "metadata": {
    "collapsed": false
   },
   "outputs": [],
   "source": [
    "result = db.materials.insert_one(material)"
   ]
  },
  {
   "cell_type": "code",
   "execution_count": 63,
   "metadata": {
    "collapsed": false
   },
   "outputs": [
    {
     "data": {
      "text/plain": [
       "ObjectId('56ce4c3b7943f62692bfb2c4')"
      ]
     },
     "execution_count": 63,
     "metadata": {},
     "output_type": "execute_result"
    }
   ],
   "source": [
    "result.inserted_id"
   ]
  },
  {
   "cell_type": "code",
   "execution_count": 64,
   "metadata": {
    "collapsed": false
   },
   "outputs": [
    {
     "name": "stdout",
     "output_type": "stream",
     "text": [
      "2016-02-25 00:35:07+00:00\n"
     ]
    }
   ],
   "source": [
    "print(result.inserted_id.generation_time)"
   ]
  },
  {
   "cell_type": "code",
   "execution_count": 65,
   "metadata": {
    "collapsed": false
   },
   "outputs": [
    {
     "name": "stdout",
     "output_type": "stream",
     "text": [
      "{\n",
      "  \"spacegroup\": {\n",
      "    \"number\": 189,\n",
      "    \"crystal_system\": \"hexagonal\"\n",
      "  },\n",
      "  \"elements\": [\n",
      "    \"Na\",\n",
      "    \"O\"\n",
      "  ],\n",
      "  \"_id\": {\n",
      "    \"$oid\": \"56ce4c3b7943f62692bfb2c4\"\n",
      "  },\n",
      "  \"band_gap\": 1.736,\n",
      "  \"fake\": true,\n",
      "  \"last_updated\": {\n",
      "    \"$date\": 1456360507412\n",
      "  }\n",
      "}\n"
     ]
    }
   ],
   "source": [
    "from bson import json_util\n",
    "print(json_util.dumps(db.materials.find_one(result.inserted_id),\n",
    "                      indent=2))"
   ]
  },
  {
   "cell_type": "code",
   "execution_count": 66,
   "metadata": {
    "collapsed": false
   },
   "outputs": [],
   "source": [
    "result = db.materials.delete_many({\"fake\": True})"
   ]
  },
  {
   "cell_type": "code",
   "execution_count": 67,
   "metadata": {
    "collapsed": false
   },
   "outputs": [
    {
     "data": {
      "text/plain": [
       "1"
      ]
     },
     "execution_count": 67,
     "metadata": {},
     "output_type": "execute_result"
    }
   ],
   "source": [
    "result.deleted_count"
   ]
  },
  {
   "cell_type": "markdown",
   "metadata": {},
   "source": [
    "## Find data"
   ]
  },
  {
   "cell_type": "markdown",
   "metadata": {},
   "source": [
    "You can use the `find()` method to issue a query to retrieve data from a collection in MongoDB. All queries in MongoDB have the scope of a single collection.\n",
    "\n",
    "Queries can return all documents in a collection or only the documents that match a specified filter or criteria. You can specify the filter or criteria in a document and pass it as a parameter to the `find()` method.\n",
    "\n",
    "The `find()` method returns query results in a cursor, which is an iterable object that yields documents."
   ]
  },
  {
   "cell_type": "markdown",
   "metadata": {},
   "source": [
    "### Gotta catch 'em all"
   ]
  },
  {
   "cell_type": "markdown",
   "metadata": {},
   "source": [
    "To return all documents in a collection, call the `find()` method without a criteria document. "
   ]
  },
  {
   "cell_type": "code",
   "execution_count": 68,
   "metadata": {
    "collapsed": false
   },
   "outputs": [],
   "source": [
    "cursor = db.materials.find()"
   ]
  },
  {
   "cell_type": "markdown",
   "metadata": {},
   "source": [
    "Let's iterate over the cursor and print a few material ids."
   ]
  },
  {
   "cell_type": "code",
   "execution_count": 69,
   "metadata": {
    "collapsed": false
   },
   "outputs": [
    {
     "name": "stdout",
     "output_type": "stream",
     "text": [
      "mp-568345\n",
      "mp-12671\n",
      "mp-1703\n",
      "mp-5152\n",
      "mp-569624\n"
     ]
    }
   ],
   "source": [
    "how_many = 5\n",
    "counter = 0\n",
    "for document in cursor:\n",
    "    if counter < how_many:\n",
    "        print(document['material_id'])\n",
    "        counter += 1\n",
    "    else:\n",
    "        break"
   ]
  },
  {
   "cell_type": "markdown",
   "metadata": {},
   "source": [
    "There's an easier way to limit how many documents are yielded by a cursor:"
   ]
  },
  {
   "cell_type": "code",
   "execution_count": 70,
   "metadata": {
    "collapsed": false
   },
   "outputs": [
    {
     "name": "stdout",
     "output_type": "stream",
     "text": [
      "mp-552787\n",
      "mp-188\n",
      "mp-600216\n",
      "mp-2310\n",
      "mp-780541\n"
     ]
    }
   ],
   "source": [
    "for document in cursor.limit(5):\n",
    "    print(document['material_id'])"
   ]
  },
  {
   "cell_type": "markdown",
   "metadata": {},
   "source": [
    "### Query by a top-level field"
   ]
  },
  {
   "cell_type": "markdown",
   "metadata": {},
   "source": [
    "The following operation finds documents whose **nelements** field equals **3**:"
   ]
  },
  {
   "cell_type": "code",
   "execution_count": 71,
   "metadata": {
    "collapsed": true
   },
   "outputs": [],
   "source": [
    "cursor = db.materials.find({\"nelements\": 3})"
   ]
  },
  {
   "cell_type": "markdown",
   "metadata": {},
   "source": [
    "Let's print (\"pretty print\", for nice indentation) a few of the results:"
   ]
  },
  {
   "cell_type": "code",
   "execution_count": 72,
   "metadata": {
    "collapsed": false
   },
   "outputs": [
    {
     "name": "stdout",
     "output_type": "stream",
     "text": [
      "{'_id': ObjectId('56ce4c367943f62692beb002'),\n",
      " 'chemsys': 'Er-O-S',\n",
      " 'elasticity': None,\n",
      " 'elements': ['Er', 'O', 'S'],\n",
      " 'material_id': 'mp-12671',\n",
      " 'nelements': 3,\n",
      " 'pretty_formula': 'Er2SO2',\n",
      " 'spacegroup': {'crystal_system': 'trigonal',\n",
      "                'hall': '-P 3 2=',\n",
      "                'number': 164,\n",
      "                'point_group': '-3m',\n",
      "                'source': 'spglib',\n",
      "                'symbol': 'P-3m1'}}\n",
      "{'_id': ObjectId('56ce4c367943f62692beb004'),\n",
      " 'chemsys': 'La-O-Si',\n",
      " 'elasticity': None,\n",
      " 'elements': ['La', 'O', 'Si'],\n",
      " 'material_id': 'mp-5152',\n",
      " 'nelements': 3,\n",
      " 'pretty_formula': 'La2SiO5',\n",
      " 'spacegroup': {'crystal_system': 'monoclinic',\n",
      "                'hall': '-P 2yab',\n",
      "                'number': 14,\n",
      "                'point_group': '2/m',\n",
      "                'source': 'spglib',\n",
      "                'symbol': 'P2_1/c'}}\n",
      "{'_id': ObjectId('56ce4c367943f62692beb007'),\n",
      " 'chemsys': 'Cl-Fe-O',\n",
      " 'elasticity': {'G_Reuss': 4.800058831100799,\n",
      "                'G_VRH': 15.695815587428928,\n",
      "                'G_Voigt': 26.591572343757058,\n",
      "                'K_Reuss': 12.632559688113227,\n",
      "                'K_VRH': 27.637901832532986,\n",
      "                'K_Voigt': 42.643243976952746,\n",
      "                'calculations': {'energy_cutoff': 700.0,\n",
      "                                 'kpoint_density': 7000,\n",
      "                                 'pseudopotentials': ['Fe_pv', 'Cl', 'O']},\n",
      "                'elastic_anisotropy': 25.074876418379876,\n",
      "                'elastic_tensor': [[132.83779269421643,\n",
      "                                    4.717792594504168,\n",
      "                                    41.313046328714506,\n",
      "                                    0.0,\n",
      "                                    0.0,\n",
      "                                    0.0],\n",
      "                                   [4.717792594504168,\n",
      "                                    13.477772725303467,\n",
      "                                    4.593045165520949,\n",
      "                                    0.0,\n",
      "                                    0.0,\n",
      "                                    0.0],\n",
      "                                   [41.313046328714506,\n",
      "                                    4.593045165520949,\n",
      "                                    136.22586219557556,\n",
      "                                    0.0,\n",
      "                                    0.0,\n",
      "                                    0.0],\n",
      "                                   [0.0, 0.0, 0.0, 1.98697116, 0.0, 0.0],\n",
      "                                   [0.0, 0.0, 0.0, 0.0, 51.08350865666667, 0.0],\n",
      "                                   [0.0,\n",
      "                                    0.0,\n",
      "                                    0.0,\n",
      "                                    0.0,\n",
      "                                    0.0,\n",
      "                                    2.581534060000001]],\n",
      "                'poisson_ratio': 0.26124289904174286},\n",
      " 'elements': ['Cl', 'Fe', 'O'],\n",
      " 'material_id': 'mp-552787',\n",
      " 'nelements': 3,\n",
      " 'pretty_formula': 'FeClO',\n",
      " 'spacegroup': {'crystal_system': 'orthorhombic',\n",
      "                'hall': 'P 2 2ab -1ab',\n",
      "                'number': 59,\n",
      "                'point_group': 'mmm',\n",
      "                'source': 'spglib',\n",
      "                'symbol': 'Pmmn'}}\n"
     ]
    }
   ],
   "source": [
    "from pprint import pprint\n",
    "\n",
    "for doc in cursor.limit(3):\n",
    "    pprint(doc)"
   ]
  },
  {
   "cell_type": "markdown",
   "metadata": {
    "collapsed": true
   },
   "source": [
    "### Projection to select fields"
   ]
  },
  {
   "cell_type": "markdown",
   "metadata": {},
   "source": [
    "That last query returned all fields for each document. We can use a projection, specified as JSON, to indicate which fields we want. The `_id` field is included by default -- we must be explicit if we don't want it returned."
   ]
  },
  {
   "cell_type": "code",
   "execution_count": 73,
   "metadata": {
    "collapsed": false
   },
   "outputs": [
    {
     "name": "stdout",
     "output_type": "stream",
     "text": [
      "{'material_id': 'mp-12671', 'pretty_formula': 'Er2SO2'}\n",
      "{'material_id': 'mp-5152', 'pretty_formula': 'La2SiO5'}\n",
      "{'material_id': 'mp-552787', 'pretty_formula': 'FeClO'}\n"
     ]
    }
   ],
   "source": [
    "cursor = db.materials.find({\"nelements\": 3},\n",
    "                           {\"material_id\": 1, \"pretty_formula\": 1, \"_id\": 0})\n",
    "\n",
    "for doc in cursor.limit(3):\n",
    "    pprint(doc)"
   ]
  },
  {
   "cell_type": "markdown",
   "metadata": {},
   "source": [
    "### Query by a field in an embedded document"
   ]
  },
  {
   "cell_type": "markdown",
   "metadata": {},
   "source": [
    "To specify a condition on a field within an embedded document, use dot notation. Dot notation requires quotes around the whole dotted field name."
   ]
  },
  {
   "cell_type": "code",
   "execution_count": 74,
   "metadata": {
    "collapsed": false
   },
   "outputs": [
    {
     "name": "stdout",
     "output_type": "stream",
     "text": [
      "9408\n"
     ]
    }
   ],
   "source": [
    "cursor = db.materials.find({\"spacegroup.crystal_system\": \"cubic\"})\n",
    "\n",
    "print(cursor.count())"
   ]
  },
  {
   "cell_type": "markdown",
   "metadata": {},
   "source": [
    "Projection can take advantage of the same dot notation:"
   ]
  },
  {
   "cell_type": "code",
   "execution_count": 75,
   "metadata": {
    "collapsed": false
   },
   "outputs": [
    {
     "name": "stdout",
     "output_type": "stream",
     "text": [
      "{'elements': ['Yb', 'Zn'], 'spacegroup': {'crystal_system': 'cubic'}}\n",
      "{'elements': ['Cr', 'Hf'], 'spacegroup': {'crystal_system': 'hexagonal'}}\n",
      "{'elements': ['B', 'Lu'], 'spacegroup': {'crystal_system': 'cubic'}}\n"
     ]
    }
   ],
   "source": [
    "cursor = db.materials.find({\"nelements\": 2}, {\"spacegroup.crystal_system\": 1, \"elements\": 1, \"_id\": 0})\n",
    "\n",
    "for doc in cursor.limit(3):\n",
    "    pprint(doc)"
   ]
  },
  {
   "cell_type": "markdown",
   "metadata": {},
   "source": [
    "### Query by a field in an array"
   ]
  },
  {
   "cell_type": "markdown",
   "metadata": {},
   "source": [
    "How many materials in our collection contain iron? When a field is an array, testing for membership has the same form as testing for equality:"
   ]
  },
  {
   "cell_type": "code",
   "execution_count": 76,
   "metadata": {
    "collapsed": false
   },
   "outputs": [
    {
     "data": {
      "text/plain": [
       "5813"
      ]
     },
     "execution_count": 76,
     "metadata": {},
     "output_type": "execute_result"
    }
   ],
   "source": [
    "db.materials.find({\"elements\": \"Fe\"}).count()"
   ]
  },
  {
   "cell_type": "markdown",
   "metadata": {},
   "source": [
    "If you supply an array as the value under test, we can see that four polymorphs of iron are present in our collection:"
   ]
  },
  {
   "cell_type": "code",
   "execution_count": 77,
   "metadata": {
    "collapsed": false
   },
   "outputs": [
    {
     "data": {
      "text/plain": [
       "4"
      ]
     },
     "execution_count": 77,
     "metadata": {},
     "output_type": "execute_result"
    }
   ],
   "source": [
    "db.materials.find({\"elements\": [\"Fe\"]}).count()"
   ]
  },
  {
   "cell_type": "markdown",
   "metadata": {},
   "source": [
    "### Challenge: Dot Notation and Projections"
   ]
  },
  {
   "cell_type": "markdown",
   "metadata": {},
   "source": [
    "Which query below yields documents containing the crystal system and spacegroup number for all binary compounds?"
   ]
  },
  {
   "cell_type": "code",
   "execution_count": 78,
   "metadata": {
    "collapsed": false
   },
   "outputs": [
    {
     "ename": "ValueError",
     "evalue": "Unsupported projection option: number",
     "output_type": "error",
     "traceback": [
      "\u001b[0;31m---------------------------------------------------------------------------\u001b[0m",
      "\u001b[0;31mValueError\u001b[0m                                Traceback (most recent call last)",
      "\u001b[0;32m<ipython-input-78-f74df3462d6e>\u001b[0m in \u001b[0;36m<module>\u001b[0;34m()\u001b[0m\n\u001b[1;32m      1\u001b[0m \u001b[0mcursor\u001b[0m \u001b[0;34m=\u001b[0m \u001b[0mdb\u001b[0m\u001b[0;34m.\u001b[0m\u001b[0mmaterials\u001b[0m\u001b[0;34m.\u001b[0m\u001b[0mfind\u001b[0m\u001b[0;34m(\u001b[0m\u001b[0;34m{\u001b[0m\u001b[0;34m\"nelements\"\u001b[0m\u001b[0;34m:\u001b[0m \u001b[0;36m2\u001b[0m\u001b[0;34m}\u001b[0m\u001b[0;34m,\u001b[0m \u001b[0;34m{\u001b[0m\u001b[0;34m\"spacegroup\"\u001b[0m\u001b[0;34m:\u001b[0m \u001b[0;34m{\u001b[0m\u001b[0;34m\"crystal_system\"\u001b[0m\u001b[0;34m:\u001b[0m \u001b[0;36m1\u001b[0m\u001b[0;34m,\u001b[0m \u001b[0;34m\"number\"\u001b[0m\u001b[0;34m:\u001b[0m \u001b[0;36m1\u001b[0m\u001b[0;34m}\u001b[0m\u001b[0;34m}\u001b[0m\u001b[0;34m)\u001b[0m\u001b[0;34m\u001b[0m\u001b[0m\n\u001b[0;32m----> 2\u001b[0;31m \u001b[0;32mfor\u001b[0m \u001b[0mdoc\u001b[0m \u001b[0;32min\u001b[0m \u001b[0mcursor\u001b[0m\u001b[0;34m.\u001b[0m\u001b[0mlimit\u001b[0m\u001b[0;34m(\u001b[0m\u001b[0;36m3\u001b[0m\u001b[0;34m)\u001b[0m\u001b[0;34m:\u001b[0m\u001b[0;34m\u001b[0m\u001b[0m\n\u001b[0m\u001b[1;32m      3\u001b[0m     \u001b[0mpprint\u001b[0m\u001b[0;34m(\u001b[0m\u001b[0mdoc\u001b[0m\u001b[0;34m)\u001b[0m\u001b[0;34m\u001b[0m\u001b[0m\n",
      "\u001b[0;32m/Users/dwinston/Dropbox/personal-projects/mongo-novice-materials/env/lib/python3.5/site-packages/mongomock/collection.py\u001b[0m in \u001b[0;36m__next__\u001b[0;34m(self)\u001b[0m\n\u001b[1;32m   1500\u001b[0m         \u001b[0;32mif\u001b[0m \u001b[0mself\u001b[0m\u001b[0;34m.\u001b[0m\u001b[0m_limit\u001b[0m \u001b[0;32mis\u001b[0m \u001b[0;32mnot\u001b[0m \u001b[0;32mNone\u001b[0m\u001b[0;34m:\u001b[0m\u001b[0;34m\u001b[0m\u001b[0m\n\u001b[1;32m   1501\u001b[0m             \u001b[0mself\u001b[0m\u001b[0;34m.\u001b[0m\u001b[0m_limit\u001b[0m \u001b[0;34m-=\u001b[0m \u001b[0;36m1\u001b[0m\u001b[0;34m\u001b[0m\u001b[0m\n\u001b[0;32m-> 1502\u001b[0;31m         \u001b[0;32mreturn\u001b[0m \u001b[0mnext\u001b[0m\u001b[0;34m(\u001b[0m\u001b[0mself\u001b[0m\u001b[0;34m.\u001b[0m\u001b[0m_dataset\u001b[0m\u001b[0;34m)\u001b[0m\u001b[0;34m\u001b[0m\u001b[0m\n\u001b[0m\u001b[1;32m   1503\u001b[0m     \u001b[0mnext\u001b[0m \u001b[0;34m=\u001b[0m \u001b[0m__next__\u001b[0m\u001b[0;34m\u001b[0m\u001b[0m\n\u001b[1;32m   1504\u001b[0m \u001b[0;34m\u001b[0m\u001b[0m\n",
      "\u001b[0;32m/Users/dwinston/Dropbox/personal-projects/mongo-novice-materials/env/lib/python3.5/site-packages/mongomock/collection.py\u001b[0m in \u001b[0;36m<genexpr>\u001b[0;34m(.0)\u001b[0m\n\u001b[1;32m    658\u001b[0m     \u001b[0;32mdef\u001b[0m \u001b[0m_get_dataset\u001b[0m\u001b[0;34m(\u001b[0m\u001b[0mself\u001b[0m\u001b[0;34m,\u001b[0m \u001b[0mspec\u001b[0m\u001b[0;34m,\u001b[0m \u001b[0msort\u001b[0m\u001b[0;34m,\u001b[0m \u001b[0mfields\u001b[0m\u001b[0;34m,\u001b[0m \u001b[0mas_class\u001b[0m\u001b[0;34m,\u001b[0m \u001b[0mskip\u001b[0m\u001b[0;34m)\u001b[0m\u001b[0;34m:\u001b[0m\u001b[0;34m\u001b[0m\u001b[0m\n\u001b[1;32m    659\u001b[0m         dataset = (self._copy_only_fields(document, fields, as_class)\n\u001b[0;32m--> 660\u001b[0;31m                    for document in self._iter_documents(spec))\n\u001b[0m\u001b[1;32m    661\u001b[0m         \u001b[0;32mif\u001b[0m \u001b[0msort\u001b[0m\u001b[0;34m:\u001b[0m\u001b[0;34m\u001b[0m\u001b[0m\n\u001b[1;32m    662\u001b[0m             \u001b[0;32mfor\u001b[0m \u001b[0msortKey\u001b[0m\u001b[0;34m,\u001b[0m \u001b[0msortDirection\u001b[0m \u001b[0;32min\u001b[0m \u001b[0mreversed\u001b[0m\u001b[0;34m(\u001b[0m\u001b[0msort\u001b[0m\u001b[0;34m)\u001b[0m\u001b[0;34m:\u001b[0m\u001b[0;34m\u001b[0m\u001b[0m\n",
      "\u001b[0;32m/Users/dwinston/Dropbox/personal-projects/mongo-novice-materials/env/lib/python3.5/site-packages/mongomock/collection.py\u001b[0m in \u001b[0;36m_copy_only_fields\u001b[0;34m(self, doc, fields, container)\u001b[0m\n\u001b[1;32m    747\u001b[0m \u001b[0;34m\u001b[0m\u001b[0m\n\u001b[1;32m    748\u001b[0m             \u001b[0;31m# filter out fields with projection operators, we will take care of them later\u001b[0m\u001b[0;34m\u001b[0m\u001b[0;34m\u001b[0m\u001b[0m\n\u001b[0;32m--> 749\u001b[0;31m             \u001b[0mprojection_operators\u001b[0m \u001b[0;34m=\u001b[0m \u001b[0mself\u001b[0m\u001b[0;34m.\u001b[0m\u001b[0m_extract_projection_operators\u001b[0m\u001b[0;34m(\u001b[0m\u001b[0mfields\u001b[0m\u001b[0;34m)\u001b[0m\u001b[0;34m\u001b[0m\u001b[0m\n\u001b[0m\u001b[1;32m    750\u001b[0m \u001b[0;34m\u001b[0m\u001b[0m\n\u001b[1;32m    751\u001b[0m             \u001b[0;31m# other than the _id field, all fields must be either includes or\u001b[0m\u001b[0;34m\u001b[0m\u001b[0;34m\u001b[0m\u001b[0m\n",
      "\u001b[0;32m/Users/dwinston/Dropbox/personal-projects/mongo-novice-materials/env/lib/python3.5/site-packages/mongomock/collection.py\u001b[0m in \u001b[0;36m_extract_projection_operators\u001b[0;34m(self, fields)\u001b[0m\n\u001b[1;32m    694\u001b[0m                 \u001b[0;32mfor\u001b[0m \u001b[0mop\u001b[0m \u001b[0;32min\u001b[0m \u001b[0mvalue\u001b[0m\u001b[0;34m:\u001b[0m\u001b[0;34m\u001b[0m\u001b[0m\n\u001b[1;32m    695\u001b[0m                     \u001b[0;32mif\u001b[0m \u001b[0mop\u001b[0m \u001b[0;32mnot\u001b[0m \u001b[0;32min\u001b[0m \u001b[0mallowed_projection_operators\u001b[0m\u001b[0;34m:\u001b[0m\u001b[0;34m\u001b[0m\u001b[0m\n\u001b[0;32m--> 696\u001b[0;31m                         \u001b[0;32mraise\u001b[0m \u001b[0mValueError\u001b[0m\u001b[0;34m(\u001b[0m\u001b[0;34m'Unsupported projection option: {}'\u001b[0m\u001b[0;34m.\u001b[0m\u001b[0mformat\u001b[0m\u001b[0;34m(\u001b[0m\u001b[0mop\u001b[0m\u001b[0;34m)\u001b[0m\u001b[0;34m)\u001b[0m\u001b[0;34m\u001b[0m\u001b[0m\n\u001b[0m\u001b[1;32m    697\u001b[0m                 \u001b[0mresult\u001b[0m\u001b[0;34m[\u001b[0m\u001b[0mkey\u001b[0m\u001b[0;34m]\u001b[0m \u001b[0;34m=\u001b[0m \u001b[0mvalue\u001b[0m\u001b[0;34m\u001b[0m\u001b[0m\n\u001b[1;32m    698\u001b[0m \u001b[0;34m\u001b[0m\u001b[0m\n",
      "\u001b[0;31mValueError\u001b[0m: Unsupported projection option: number"
     ]
    }
   ],
   "source": [
    "cursor = db.materials.find({\"nelements\": 2}, {\"spacegroup\": {\"crystal_system\": 1, \"number\": 1}})\n",
    "for doc in cursor.limit(3):\n",
    "    pprint(doc)"
   ]
  },
  {
   "cell_type": "code",
   "execution_count": 79,
   "metadata": {
    "collapsed": false
   },
   "outputs": [
    {
     "name": "stdout",
     "output_type": "stream",
     "text": [
      "{'_id': ObjectId('56ce4c367943f62692beb003'),\n",
      " 'spacegroup': {'crystal_system': 'cubic', 'number': 221}}\n",
      "{'_id': ObjectId('56ce4c367943f62692beb005'),\n",
      " 'spacegroup': {'crystal_system': 'hexagonal', 'number': 194}}\n",
      "{'_id': ObjectId('56ce4c367943f62692beb006'),\n",
      " 'spacegroup': {'crystal_system': 'cubic', 'number': 221}}\n"
     ]
    }
   ],
   "source": [
    "cursor = db.materials.find({\"nelements\": 2}, {\"spacegroup.crystal_system\": 1, \"spacegroup.number\": 1})\n",
    "for doc in cursor.limit(3):\n",
    "    pprint(doc)"
   ]
  },
  {
   "cell_type": "markdown",
   "metadata": {},
   "source": [
    "### Challenge: Combining Conditions"
   ]
  },
  {
   "cell_type": "markdown",
   "metadata": {},
   "source": [
    "Which query below returns the number of binary oxides (oxygen-containing, two-element materials) in our collection?"
   ]
  },
  {
   "cell_type": "code",
   "execution_count": 80,
   "metadata": {
    "collapsed": false
   },
   "outputs": [
    {
     "data": {
      "text/plain": [
       "38125"
      ]
     },
     "execution_count": 80,
     "metadata": {},
     "output_type": "execute_result"
    }
   ],
   "source": [
    "db.materials.find({\"elements\": \"O\"}).limit(2).count()"
   ]
  },
  {
   "cell_type": "code",
   "execution_count": 81,
   "metadata": {
    "collapsed": false
   },
   "outputs": [
    {
     "data": {
      "text/plain": [
       "1519"
      ]
     },
     "execution_count": 81,
     "metadata": {},
     "output_type": "execute_result"
    }
   ],
   "source": [
    "db.materials.find({\"elements\": \"O\", \"nelements\": 2}).count()"
   ]
  },
  {
   "cell_type": "code",
   "execution_count": 82,
   "metadata": {
    "collapsed": false
   },
   "outputs": [
    {
     "data": {
      "text/plain": [
       "0"
      ]
     },
     "execution_count": 82,
     "metadata": {},
     "output_type": "execute_result"
    }
   ],
   "source": [
    "db.materials.find({\"elements\": [\"O\"], \"nelements\": 2}).count()"
   ]
  },
  {
   "cell_type": "markdown",
   "metadata": {},
   "source": [
    "## Specify Conditions with Operators"
   ]
  },
  {
   "cell_type": "code",
   "execution_count": 89,
   "metadata": {
    "collapsed": false,
    "scrolled": true
   },
   "outputs": [
    {
     "name": "stdout",
     "output_type": "stream",
     "text": [
      "{'material_id': 'mp-12671', 'nelements': 3, 'pretty_formula': 'Er2SO2'}\n",
      "{'material_id': 'mp-5152', 'nelements': 3, 'pretty_formula': 'La2SiO5'}\n",
      "{'material_id': 'mp-552787', 'nelements': 3, 'pretty_formula': 'FeClO'}\n",
      "{'material_id': 'mp-780541', 'nelements': 3, 'pretty_formula': 'Fe4O7F'}\n",
      "{'material_id': 'mp-31899', 'nelements': 4, 'pretty_formula': 'Ba2MnReO6'}\n"
     ]
    }
   ],
   "source": [
    "COMMON_PROJ = {\n",
    "    \"material_id\": 1,\n",
    "    \"pretty_formula\": 1,\n",
    "    \"_id\": 0,\n",
    "}\n",
    "\n",
    "def print_a_few_for(query):\n",
    "    proj = {k: 1 for k in query}\n",
    "    proj.update(COMMON_PROJ)\n",
    "    for doc in db.materials.find(query, proj).limit(5):\n",
    "        pprint(doc)\n",
    "\n",
    "query = {\"nelements\": {\"$gte\": 3}}\n",
    "print_a_few_for(query)"
   ]
  },
  {
   "cell_type": "code",
   "execution_count": 90,
   "metadata": {
    "collapsed": false,
    "scrolled": true
   },
   "outputs": [
    {
     "name": "stdout",
     "output_type": "stream",
     "text": [
      "{'material_id': 'mp-568345', 'nelements': 1, 'pretty_formula': 'Fe'}\n",
      "{'material_id': 'mp-1703', 'nelements': 2, 'pretty_formula': 'YbZn'}\n",
      "{'material_id': 'mp-569624', 'nelements': 2, 'pretty_formula': 'HfCr2'}\n",
      "{'material_id': 'mp-12660', 'nelements': 2, 'pretty_formula': 'LuB6'}\n",
      "{'material_id': 'mp-188', 'nelements': 2, 'pretty_formula': 'AlPt3'}\n"
     ]
    }
   ],
   "source": [
    "print_a_few_for({\"nelements\": {\"$lt\": 3}})"
   ]
  },
  {
   "cell_type": "code",
   "execution_count": 93,
   "metadata": {
    "collapsed": false
   },
   "outputs": [
    {
     "data": {
      "text/plain": [
       "7"
      ]
     },
     "execution_count": 93,
     "metadata": {},
     "output_type": "execute_result"
    }
   ],
   "source": [
    "db.materials.find({\"chemsys\": \"Fe-O\", \"spacegroup.crystal_system\": \"cubic\"}).count()"
   ]
  },
  {
   "cell_type": "code",
   "execution_count": 95,
   "metadata": {
    "collapsed": false
   },
   "outputs": [
    {
     "data": {
      "text/plain": [
       "27370"
      ]
     },
     "execution_count": 95,
     "metadata": {},
     "output_type": "execute_result"
    }
   ],
   "source": [
    "db.materials.find({\n",
    "    \"$or\": [{\"nelements\": 2}, {\"nelements\": 4}]\n",
    "}).count()"
   ]
  },
  {
   "cell_type": "code",
   "execution_count": 98,
   "metadata": {
    "collapsed": false
   },
   "outputs": [
    {
     "name": "stdout",
     "output_type": "stream",
     "text": [
      "{'elasticity': None, 'material_id': 'mp-568345', 'pretty_formula': 'Fe'}\n",
      "{'elasticity': None, 'material_id': 'mp-12671', 'pretty_formula': 'Er2SO2'}\n",
      "{'elasticity': None, 'material_id': 'mp-1703', 'pretty_formula': 'YbZn'}\n",
      "{'elasticity': None, 'material_id': 'mp-5152', 'pretty_formula': 'La2SiO5'}\n",
      "{'elasticity': {'G_Reuss': 64.86603926197118,\n",
      "                'G_VRH': 66.1852057595004,\n",
      "                'G_Voigt': 67.50437225702963,\n",
      "                'K_Reuss': 189.54199905990907,\n",
      "                'K_VRH': 189.5741939942109,\n",
      "                'K_Voigt': 189.60638892851273,\n",
      "                'calculations': {'energy_cutoff': 700.0,\n",
      "                                 'kpoint_density': 7000,\n",
      "                                 'pseudopotentials': ['Hf_pv', 'Cr_pv']},\n",
      "                'elastic_anisotropy': 0.2037075326032598,\n",
      "                'elastic_tensor': [[295.8188907773902,\n",
      "                                    133.82065045871653,\n",
      "                                    140.1170929005653,\n",
      "                                    0.0,\n",
      "                                    0.0,\n",
      "                                    -0.036991826666666644],\n",
      "                                   [133.82065045871653,\n",
      "                                    299.3255081549423,\n",
      "                                    141.6470726644416,\n",
      "                                    0.0,\n",
      "                                    0.0,\n",
      "                                    -0.05824203666666673],\n",
      "                                   [140.1170929005653,\n",
      "                                    141.6470726644416,\n",
      "                                    280.1434693768354,\n",
      "                                    0.0,\n",
      "                                    0.0,\n",
      "                                    -0.0630635066666666],\n",
      "                                   [0.0, 0.0, 0.0, 52.12082853999999, 0.0, 0.0],\n",
      "                                   [0.0, 0.0, 0.0, 0.0, 52.19335160333334, 0.0],\n",
      "                                   [-0.036991826666666644,\n",
      "                                    -0.05824203666666673,\n",
      "                                    -0.0630635066666666,\n",
      "                                    0.0,\n",
      "                                    0.0,\n",
      "                                    79.97333038000001]],\n",
      "                'poisson_ratio': 0.34363428744148256},\n",
      " 'material_id': 'mp-569624',\n",
      " 'pretty_formula': 'HfCr2'}\n"
     ]
    }
   ],
   "source": [
    "print_a_few_for({\"elasticity\": {\"$exists\": True}})"
   ]
  },
  {
   "cell_type": "code",
   "execution_count": 99,
   "metadata": {
    "collapsed": false
   },
   "outputs": [
    {
     "name": "stdout",
     "output_type": "stream",
     "text": [
      "{'elasticity': {'G_Reuss': 64.86603926197118,\n",
      "                'G_VRH': 66.1852057595004,\n",
      "                'G_Voigt': 67.50437225702963,\n",
      "                'K_Reuss': 189.54199905990907,\n",
      "                'K_VRH': 189.5741939942109,\n",
      "                'K_Voigt': 189.60638892851273,\n",
      "                'calculations': {'energy_cutoff': 700.0,\n",
      "                                 'kpoint_density': 7000,\n",
      "                                 'pseudopotentials': ['Hf_pv', 'Cr_pv']},\n",
      "                'elastic_anisotropy': 0.2037075326032598,\n",
      "                'elastic_tensor': [[295.8188907773902,\n",
      "                                    133.82065045871653,\n",
      "                                    140.1170929005653,\n",
      "                                    0.0,\n",
      "                                    0.0,\n",
      "                                    -0.036991826666666644],\n",
      "                                   [133.82065045871653,\n",
      "                                    299.3255081549423,\n",
      "                                    141.6470726644416,\n",
      "                                    0.0,\n",
      "                                    0.0,\n",
      "                                    -0.05824203666666673],\n",
      "                                   [140.1170929005653,\n",
      "                                    141.6470726644416,\n",
      "                                    280.1434693768354,\n",
      "                                    0.0,\n",
      "                                    0.0,\n",
      "                                    -0.0630635066666666],\n",
      "                                   [0.0, 0.0, 0.0, 52.12082853999999, 0.0, 0.0],\n",
      "                                   [0.0, 0.0, 0.0, 0.0, 52.19335160333334, 0.0],\n",
      "                                   [-0.036991826666666644,\n",
      "                                    -0.05824203666666673,\n",
      "                                    -0.0630635066666666,\n",
      "                                    0.0,\n",
      "                                    0.0,\n",
      "                                    79.97333038000001]],\n",
      "                'poisson_ratio': 0.34363428744148256},\n",
      " 'material_id': 'mp-569624',\n",
      " 'pretty_formula': 'HfCr2'}\n",
      "{'elasticity': {'G_Reuss': 4.800058831100799,\n",
      "                'G_VRH': 15.695815587428928,\n",
      "                'G_Voigt': 26.591572343757058,\n",
      "                'K_Reuss': 12.632559688113227,\n",
      "                'K_VRH': 27.637901832532986,\n",
      "                'K_Voigt': 42.643243976952746,\n",
      "                'calculations': {'energy_cutoff': 700.0,\n",
      "                                 'kpoint_density': 7000,\n",
      "                                 'pseudopotentials': ['Fe_pv', 'Cl', 'O']},\n",
      "                'elastic_anisotropy': 25.074876418379876,\n",
      "                'elastic_tensor': [[132.83779269421643,\n",
      "                                    4.717792594504168,\n",
      "                                    41.313046328714506,\n",
      "                                    0.0,\n",
      "                                    0.0,\n",
      "                                    0.0],\n",
      "                                   [4.717792594504168,\n",
      "                                    13.477772725303467,\n",
      "                                    4.593045165520949,\n",
      "                                    0.0,\n",
      "                                    0.0,\n",
      "                                    0.0],\n",
      "                                   [41.313046328714506,\n",
      "                                    4.593045165520949,\n",
      "                                    136.22586219557556,\n",
      "                                    0.0,\n",
      "                                    0.0,\n",
      "                                    0.0],\n",
      "                                   [0.0, 0.0, 0.0, 1.98697116, 0.0, 0.0],\n",
      "                                   [0.0, 0.0, 0.0, 0.0, 51.08350865666667, 0.0],\n",
      "                                   [0.0,\n",
      "                                    0.0,\n",
      "                                    0.0,\n",
      "                                    0.0,\n",
      "                                    0.0,\n",
      "                                    2.581534060000001]],\n",
      "                'poisson_ratio': 0.26124289904174286},\n",
      " 'material_id': 'mp-552787',\n",
      " 'pretty_formula': 'FeClO'}\n",
      "{'elasticity': {'G_Reuss': 89.22439690238315,\n",
      "                'G_VRH': 91.1977479844793,\n",
      "                'G_Voigt': 93.17109906657547,\n",
      "                'K_Reuss': 225.23046094201425,\n",
      "                'K_VRH': 225.23046094240684,\n",
      "                'K_Voigt': 225.23046094279943,\n",
      "                'calculations': {'energy_cutoff': 700.0,\n",
      "                                 'kpoint_density': 7000,\n",
      "                                 'pseudopotentials': ['Al', 'Pt']},\n",
      "                'elastic_anisotropy': 0.2211672088169152,\n",
      "                'elastic_tensor': [[319.43298108763224,\n",
      "                                    178.12963573334946,\n",
      "                                    178.129548438403,\n",
      "                                    0.0,\n",
      "                                    0.0,\n",
      "                                    0.0],\n",
      "                                   [178.12963573334946,\n",
      "                                    319.43208297658407,\n",
      "                                    178.129473057102,\n",
      "                                    0.0,\n",
      "                                    0.0,\n",
      "                                    0.0],\n",
      "                                   [178.129548438403,\n",
      "                                    178.129473057102,\n",
      "                                    319.43176996326986,\n",
      "                                    0.0,\n",
      "                                    0.0,\n",
      "                                    0.0],\n",
      "                                   [0.0,\n",
      "                                    0.0,\n",
      "                                    0.0,\n",
      "                                    108.18424078333338,\n",
      "                                    0.0,\n",
      "                                    0.0],\n",
      "                                   [0.0,\n",
      "                                    0.0,\n",
      "                                    0.0,\n",
      "                                    0.0,\n",
      "                                    108.18423757000005,\n",
      "                                    0.0],\n",
      "                                   [0.0,\n",
      "                                    0.0,\n",
      "                                    0.0,\n",
      "                                    0.0,\n",
      "                                    0.0,\n",
      "                                    108.18429138000002]],\n",
      "                'poisson_ratio': 0.32162138374300725},\n",
      " 'material_id': 'mp-188',\n",
      " 'pretty_formula': 'AlPt3'}\n",
      "{'elasticity': {'G_Reuss': 36.0849960555562,\n",
      "                'G_VRH': 36.138594567747134,\n",
      "                'G_Voigt': 36.192193079938065,\n",
      "                'K_Reuss': 102.02676355863561,\n",
      "                'K_VRH': 102.04618920065883,\n",
      "                'K_Voigt': 102.06561484268204,\n",
      "                'calculations': {'energy_cutoff': 700.0,\n",
      "                                 'kpoint_density': 7000,\n",
      "                                 'pseudopotentials': ['Cd', 'O']},\n",
      "                'elastic_anisotropy': 0.015234201718120843,\n",
      "                'elastic_tensor': [[149.72856490003238,\n",
      "                                    76.18447389649583,\n",
      "                                    76.0971442247916,\n",
      "                                    0.0,\n",
      "                                    0.0,\n",
      "                                    0.0],\n",
      "                                   [76.18447389649583,\n",
      "                                    155.32679754703915,\n",
      "                                    76.82214981963244,\n",
      "                                    0.0,\n",
      "                                    0.16773408205128196,\n",
      "                                    0.0],\n",
      "                                   [76.0971442247916,\n",
      "                                    76.82214981963244,\n",
      "                                    155.32763525522702,\n",
      "                                    0.0,\n",
      "                                    0.11635495448717942,\n",
      "                                    0.0],\n",
      "                                   [0.0,\n",
      "                                    0.0,\n",
      "                                    0.0,\n",
      "                                    34.600412473333336,\n",
      "                                    0.0,\n",
      "                                    0.0],\n",
      "                                   [0.0,\n",
      "                                    0.16773408205128196,\n",
      "                                    0.11635495448717942,\n",
      "                                    0.0,\n",
      "                                    34.666930369230755,\n",
      "                                    0.0],\n",
      "                                   [0.0,\n",
      "                                    0.0,\n",
      "                                    0.0,\n",
      "                                    0.0,\n",
      "                                    0.0,\n",
      "                                    34.600545970000006]],\n",
      "                'poisson_ratio': 0.3416257412326539},\n",
      " 'material_id': 'mp-2310',\n",
      " 'pretty_formula': 'CdO2'}\n",
      "{'elasticity': {'G_Reuss': 140.01490613546238,\n",
      "                'G_VRH': 142.6665329138408,\n",
      "                'G_Voigt': 145.31815969221918,\n",
      "                'K_Reuss': 136.562024021793,\n",
      "                'K_VRH': 136.97260811326998,\n",
      "                'K_Voigt': 137.38319220474696,\n",
      "                'calculations': {'energy_cutoff': 700.0,\n",
      "                                 'kpoint_density': 7000,\n",
      "                                 'pseudopotentials': ['Ta_pv', 'Be_sv']},\n",
      "                'elastic_anisotropy': 0.19539490063027198,\n",
      "                'elastic_tensor': [[376.54891743906546,\n",
      "                                    -7.386712349243056,\n",
      "                                    59.36280676664959,\n",
      "                                    0.0,\n",
      "                                    0.0,\n",
      "                                    0.0],\n",
      "                                   [-7.386712349243056,\n",
      "                                    376.54900803035565,\n",
      "                                    59.36166355240516,\n",
      "                                    0.0,\n",
      "                                    0.0,\n",
      "                                    0.0],\n",
      "                                   [59.36280676664959,\n",
      "                                    59.36166355240516,\n",
      "                                    260.67528843367813,\n",
      "                                    0.0,\n",
      "                                    0.0,\n",
      "                                    0.0],\n",
      "                                   [0.0, 0.0, 0.0, 149.2932377633333, 0.0, 0.0],\n",
      "                                   [0.0,\n",
      "                                    0.0,\n",
      "                                    0.0,\n",
      "                                    0.0,\n",
      "                                    149.29423271666673,\n",
      "                                    0.0],\n",
      "                                   [0.0,\n",
      "                                    0.0,\n",
      "                                    0.0,\n",
      "                                    0.0,\n",
      "                                    0.0,\n",
      "                                    127.19150933666668]],\n",
      "                'poisson_ratio': 0.11342874565238646},\n",
      " 'material_id': 'mp-567842',\n",
      " 'pretty_formula': 'TaBe12'}\n"
     ]
    }
   ],
   "source": [
    "print_a_few_for({\"elasticity\": {\"$ne\": None}})"
   ]
  },
  {
   "cell_type": "markdown",
   "metadata": {},
   "source": [
    "## Sorting"
   ]
  },
  {
   "cell_type": "code",
   "execution_count": 101,
   "metadata": {
    "collapsed": true
   },
   "outputs": [],
   "source": [
    "import pymongo\n",
    "cursor = db.materials.find().sort([\n",
    "    (\"borough\", pymongo.ASCENDING),\n",
    "    (\"address.zipcode\", pymongo.DESCENDING)\n",
    "])"
   ]
  },
  {
   "cell_type": "code",
   "execution_count": 194,
   "metadata": {
    "collapsed": false
   },
   "outputs": [],
   "source": [
    "COMMON_PROJ = {\n",
    "    \"material_id\": 1,\n",
    "    \"pretty_formula\": 1,\n",
    "    \"spacegroup.number\": 1,\n",
    "    \"_id\": 0,\n",
    "}\n",
    "\n",
    "def cursor_with_minimal_projection(query):\n",
    "    proj = {k: 1 for k in query}\n",
    "    proj.update(COMMON_PROJ)\n",
    "    cursor = db.materials.find(query, proj)\n",
    "    return cursor\n",
    "\n",
    "def print_a_few_for(query):\n",
    "    cursor = cursor_with_minimal_projection(query)\n",
    "    for doc in cursor.limit(5):\n",
    "        pprint(doc)"
   ]
  },
  {
   "cell_type": "code",
   "execution_count": 198,
   "metadata": {
    "collapsed": false
   },
   "outputs": [
    {
     "name": "stdout",
     "output_type": "stream",
     "text": [
      "{'elasticity': {'poisson_ratio': -0.07595596751510682},\n",
      " 'material_id': 'mp-771798',\n",
      " 'pretty_formula': 'WO3',\n",
      " 'spacegroup': {'number': 204}}\n",
      "{'elasticity': {'poisson_ratio': 0.042582069532848744},\n",
      " 'material_id': 'mp-87',\n",
      " 'pretty_formula': 'Be',\n",
      " 'spacegroup': {'number': 194}}\n",
      "{'elasticity': {'poisson_ratio': 0.05989488523534276},\n",
      " 'material_id': 'mp-765892',\n",
      " 'pretty_formula': 'MnCoO4',\n",
      " 'spacegroup': {'number': 10}}\n",
      "{'elasticity': {'poisson_ratio': 0.07135395365323711},\n",
      " 'material_id': 'mp-611426',\n",
      " 'pretty_formula': 'C',\n",
      " 'spacegroup': {'number': 194}}\n",
      "{'elasticity': {'poisson_ratio': 0.07391837849830045},\n",
      " 'material_id': 'mp-23703',\n",
      " 'pretty_formula': 'LiH',\n",
      " 'spacegroup': {'number': 225}}\n"
     ]
    }
   ],
   "source": [
    "filt = {\"elasticity\": {\"$ne\": None}}\n",
    "proj = {\"elasticity.poisson_ratio\": 1}\n",
    "proj.update(COMMON_PROJ)\n",
    "cursor = db.materials.find(filt, proj).sort(\"elasticity.poisson_ratio\")\n",
    "for doc in cursor.limit(5):\n",
    "    pprint(doc)"
   ]
  },
  {
   "cell_type": "code",
   "execution_count": 204,
   "metadata": {
    "collapsed": false
   },
   "outputs": [
    {
     "name": "stdout",
     "output_type": "stream",
     "text": [
      "{'elasticity': {'poisson_ratio': 0.46752282089107655},\n",
      " 'material_id': 'mp-1387',\n",
      " 'pretty_formula': 'AlV3',\n",
      " 'spacegroup': {'number': 223}}\n",
      "{'elasticity': {'poisson_ratio': 0.46347893160099135},\n",
      " 'material_id': 'mp-361',\n",
      " 'pretty_formula': 'Cu2O',\n",
      " 'spacegroup': {'number': 224}}\n",
      "{'elasticity': {'poisson_ratio': 0.4622062265482987},\n",
      " 'material_id': 'mp-544',\n",
      " 'pretty_formula': 'Ti3Ir',\n",
      " 'spacegroup': {'number': 223}}\n",
      "{'elasticity': {'poisson_ratio': 0.4461861025154294},\n",
      " 'material_id': 'mp-22060',\n",
      " 'pretty_formula': 'Nb3In',\n",
      " 'spacegroup': {'number': 223}}\n",
      "{'elasticity': {'poisson_ratio': 0.4450687838211702},\n",
      " 'material_id': 'mp-75',\n",
      " 'pretty_formula': 'Nb',\n",
      " 'spacegroup': {'number': 229}}\n"
     ]
    }
   ],
   "source": [
    "cursor = db.materials.find(filt, proj).sort(\"elasticity.poisson_ratio\", -1)\n",
    "for doc in cursor.limit(5):\n",
    "    pprint(doc)"
   ]
  },
  {
   "cell_type": "code",
   "execution_count": 206,
   "metadata": {
    "collapsed": false
   },
   "outputs": [
    {
     "name": "stdout",
     "output_type": "stream",
     "text": [
      "{'elasticity': {'poisson_ratio': 0.3419981312210572},\n",
      " 'material_id': 'mp-556194',\n",
      " 'pretty_formula': 'SrSbSe2F',\n",
      " 'spacegroup': {'number': 129}}\n",
      "{'elasticity': {'poisson_ratio': 0.34027796672596883},\n",
      " 'material_id': 'mp-12532',\n",
      " 'pretty_formula': 'KAg2PS4',\n",
      " 'spacegroup': {'number': 121}}\n",
      "{'elasticity': {'poisson_ratio': 0.3349886462699885},\n",
      " 'material_id': 'mp-557862',\n",
      " 'pretty_formula': 'BaAg2(HgO2)2',\n",
      " 'spacegroup': {'number': 125}}\n",
      "{'elasticity': {'poisson_ratio': 0.3050725032443602},\n",
      " 'material_id': 'mp-11806',\n",
      " 'pretty_formula': 'LiMgSnPt',\n",
      " 'spacegroup': {'number': 216}}\n",
      "{'elasticity': {'poisson_ratio': 0.3042911533524732},\n",
      " 'material_id': 'mp-546011',\n",
      " 'pretty_formula': 'YZnAsO',\n",
      " 'spacegroup': {'number': 129}}\n"
     ]
    }
   ],
   "source": [
    "cursor = db.materials.find(filt, proj).sort([\n",
    "        (\"nelements\", -1),\n",
    "        (\"elasticity.poisson_ratio\", -1),\n",
    "    ])\n",
    "for doc in cursor.limit(5):\n",
    "    pprint(doc)"
   ]
  },
  {
   "cell_type": "code",
   "execution_count": 189,
   "metadata": {
    "collapsed": false
   },
   "outputs": [
    {
     "name": "stdout",
     "output_type": "stream",
     "text": [
      "{'elasticity': {'K_VRH': 435.66148729813784},\n",
      " 'material_id': 'mp-611426',\n",
      " 'nelements': 1,\n",
      " 'pretty_formula': 'C',\n",
      " 'spacegroup': {'crystal_system': 'hexagonal'}}\n",
      "{'elasticity': {'K_VRH': 401.3286154019227},\n",
      " 'material_id': 'mp-49',\n",
      " 'nelements': 1,\n",
      " 'pretty_formula': 'Os',\n",
      " 'spacegroup': {'crystal_system': 'hexagonal'}}\n",
      "{'elasticity': {'K_VRH': 365.08592365295135},\n",
      " 'material_id': 'mp-8',\n",
      " 'nelements': 1,\n",
      " 'pretty_formula': 'Re',\n",
      " 'spacegroup': {'crystal_system': 'hexagonal'}}\n",
      "{'elasticity': {'K_VRH': 346.3227612888041},\n",
      " 'material_id': 'mp-101',\n",
      " 'nelements': 1,\n",
      " 'pretty_formula': 'Ir',\n",
      " 'spacegroup': {'crystal_system': 'cubic'}}\n",
      "{'elasticity': {'K_VRH': 307.5241654938898},\n",
      " 'material_id': 'mp-33',\n",
      " 'nelements': 1,\n",
      " 'pretty_formula': 'Ru',\n",
      " 'spacegroup': {'crystal_system': 'hexagonal'}}\n"
     ]
    }
   ],
   "source": [
    "cursor = db.materials.find({\n",
    "        \"nelements\": {\"$lt\": 3}\n",
    "    }, {\n",
    "        \"_id\": 0,\n",
    "        \"nelements\": 1,\n",
    "        \"elasticity.K_VRH\": 1,\n",
    "        \"pretty_formula\": 1,\n",
    "        \"spacegroup.crystal_system\": 1,\n",
    "        \"material_id\": 1,\n",
    "    })\n",
    "\n",
    "cursor = cursor.sort([(\"nelements\", 1),(\"elasticity.K_VRH\", -1)])\n",
    "\n",
    "for doc in cursor.limit(5):\n",
    "    pprint(doc)"
   ]
  },
  {
   "cell_type": "code",
   "execution_count": 188,
   "metadata": {
    "collapsed": false,
    "scrolled": true
   },
   "outputs": [
    {
     "name": "stdout",
     "output_type": "stream",
     "text": [
      "{'elasticity': {'K_VRH': 435.66148729813784},\n",
      " 'material_id': 'mp-611426',\n",
      " 'nelements': 1,\n",
      " 'pretty_formula': 'C',\n",
      " 'spacegroup': {'crystal_system': 'hexagonal'}}\n",
      "{'elasticity': {'K_VRH': 401.3286154019227},\n",
      " 'material_id': 'mp-49',\n",
      " 'nelements': 1,\n",
      " 'pretty_formula': 'Os',\n",
      " 'spacegroup': {'crystal_system': 'hexagonal'}}\n",
      "{'elasticity': {'K_VRH': 365.08592365295135},\n",
      " 'material_id': 'mp-8',\n",
      " 'nelements': 1,\n",
      " 'pretty_formula': 'Re',\n",
      " 'spacegroup': {'crystal_system': 'hexagonal'}}\n",
      "{'elasticity': {'K_VRH': 346.3227612888041},\n",
      " 'material_id': 'mp-101',\n",
      " 'nelements': 1,\n",
      " 'pretty_formula': 'Ir',\n",
      " 'spacegroup': {'crystal_system': 'cubic'}}\n",
      "{'elasticity': {'K_VRH': 307.5241654938898},\n",
      " 'material_id': 'mp-33',\n",
      " 'nelements': 1,\n",
      " 'pretty_formula': 'Ru',\n",
      " 'spacegroup': {'crystal_system': 'hexagonal'}}\n"
     ]
    }
   ],
   "source": [
    "cursor = db.materials.find({\n",
    "        \"nelements\": {\"$lt\": 3}\n",
    "    }, {\n",
    "        \"_id\": 0,\n",
    "        \"nelements\": 1,\n",
    "        \"elasticity.K_VRH\": 1,\n",
    "        \"pretty_formula\": 1,\n",
    "        \"spacegroup.crystal_system\": 1,\n",
    "        \"material_id\": 1,\n",
    "    }, sort=[\n",
    "        (\"nelements\", 1),\n",
    "        (\"elasticity.K_VRH\", -1)\n",
    "    ])\n",
    "\n",
    "for doc in cursor.limit(5):\n",
    "    pprint(doc)"
   ]
  },
  {
   "cell_type": "code",
   "execution_count": 22,
   "metadata": {
    "collapsed": false
   },
   "outputs": [
    {
     "name": "stdout",
     "output_type": "stream",
     "text": [
      "cubic 195 230\n",
      "trigonal 143 167\n",
      "monoclinic 3 15\n",
      "hexagonal 169 194\n",
      "orthorhombic 16 74\n",
      "tetragonal 75 142\n",
      "triclinic 1 2\n"
     ]
    }
   ],
   "source": [
    "systems = filter(None, db.materials.distinct(\"spacegroup.crystal_system\"))\n",
    "for s in systems:\n",
    "    materials = list(db.materials.find(\n",
    "        {\"spacegroup.crystal_system\": s}, {\"spacegroup.number\": 1}\n",
    "    ).sort(\"spacegroup.number\"))\n",
    "    print(s, materials[0][\"spacegroup\"][\"number\"], materials[-1][\"spacegroup\"][\"number\"])\n",
    "    "
   ]
  },
  {
   "cell_type": "markdown",
   "metadata": {},
   "source": [
    "## Update"
   ]
  },
  {
   "cell_type": "code",
   "execution_count": 35,
   "metadata": {
    "collapsed": false
   },
   "outputs": [],
   "source": [
    "import json\n",
    "\n",
    "db.elements.drop()\n",
    "with open('data/periodic_table.json') as f:\n",
    "    for symbol, rest in json.load(f).items():\n",
    "        doc = {\"Symbol\": symbol}\n",
    "        doc.update(rest)\n",
    "        db.elements.insert_one(doc)"
   ]
  },
  {
   "cell_type": "code",
   "execution_count": 43,
   "metadata": {
    "collapsed": false
   },
   "outputs": [],
   "source": [
    "halogens = [\"F\", \"Cl\", \"Br\", \"I\", \"At\"]\n",
    "def halide_systems():\n",
    "    for halogen in halogens:\n",
    "        X = db.elements.find_one({\"Symbol\": halogen})[\"X\"]\n",
    "        for doc in db.elements.find({\"X\": {\"$lt\": X}}):\n",
    "            yield \"-\".join(sorted([doc[\"Symbol\"], halogen]))"
   ]
  },
  {
   "cell_type": "code",
   "execution_count": 46,
   "metadata": {
    "collapsed": false
   },
   "outputs": [
    {
     "data": {
      "text/plain": [
       "['Cu-F', 'Cl-Cu', 'Br-Cu', 'Cu-I', 'At-Cu']"
      ]
     },
     "execution_count": 46,
     "metadata": {},
     "output_type": "execute_result"
    }
   ],
   "source": [
    "[s for s in list(halide_systems()) if 'Cu' in s]"
   ]
  },
  {
   "cell_type": "code",
   "execution_count": 117,
   "metadata": {
    "collapsed": true
   },
   "outputs": [],
   "source": [
    "reset_materials()"
   ]
  },
  {
   "cell_type": "code",
   "execution_count": 90,
   "metadata": {
    "collapsed": false
   },
   "outputs": [
    {
     "data": {
      "text/plain": [
       "2"
      ]
     },
     "execution_count": 90,
     "metadata": {},
     "output_type": "execute_result"
    }
   ],
   "source": [
    "db.materials.find({\"chemsys\": \"Cu-F\"}).count()"
   ]
  },
  {
   "cell_type": "code",
   "execution_count": 91,
   "metadata": {
    "collapsed": false
   },
   "outputs": [],
   "source": [
    "result = db.materials.update_one(\n",
    "    {\"chemsys\": \"Cu-F\"},\n",
    "    {\n",
    "        \"$set\": {\n",
    "            \"tags\": [\"halide\"]\n",
    "        },\n",
    "        \"$currentDate\": {\"lastModified\": True}\n",
    "    }\n",
    ")"
   ]
  },
  {
   "cell_type": "code",
   "execution_count": 92,
   "metadata": {
    "collapsed": false
   },
   "outputs": [
    {
     "data": {
      "text/plain": [
       "1"
      ]
     },
     "execution_count": 92,
     "metadata": {},
     "output_type": "execute_result"
    }
   ],
   "source": [
    "result.matched_count"
   ]
  },
  {
   "cell_type": "code",
   "execution_count": 93,
   "metadata": {
    "collapsed": false
   },
   "outputs": [
    {
     "data": {
      "text/plain": [
       "1"
      ]
     },
     "execution_count": 93,
     "metadata": {},
     "output_type": "execute_result"
    }
   ],
   "source": [
    "result.modified_count"
   ]
  },
  {
   "cell_type": "code",
   "execution_count": 94,
   "metadata": {
    "collapsed": false
   },
   "outputs": [
    {
     "data": {
      "text/plain": [
       "{'_id': ObjectId('56cedcde7943f6405b34a56e'),\n",
       " 'lastModified': datetime.datetime(2016, 2, 25, 10, 52, 24, 303000),\n",
       " 'material_id': 'mp-1229',\n",
       " 'tags': ['halide']}"
      ]
     },
     "execution_count": 94,
     "metadata": {},
     "output_type": "execute_result"
    }
   ],
   "source": [
    "db.materials.find_one({\"chemsys\": \"Cu-F\"},\n",
    "                      {\"tags\": 1, \"lastModified\": 1, \"material_id\": 1})"
   ]
  },
  {
   "cell_type": "code",
   "execution_count": 95,
   "metadata": {
    "collapsed": false
   },
   "outputs": [
    {
     "name": "stdout",
     "output_type": "stream",
     "text": [
      "1 1\n"
     ]
    }
   ],
   "source": [
    "result = db.materials.update_one(\n",
    "    {\"material_id\": \"mp-1229\"},\n",
    "    {\"$set\": {\"elasticity.calculations.source\": \"Private communication\"}}\n",
    ")\n",
    "\n",
    "print(result.matched_count, result.modified_count)"
   ]
  },
  {
   "cell_type": "code",
   "execution_count": 106,
   "metadata": {
    "collapsed": true
   },
   "outputs": [],
   "source": [
    "result = db.materials.update_many(\n",
    "    {\"chemsys\": {\"$in\": list(halide_systems())}},\n",
    "    {\"$addToSet\": {\"tags\": \"halide\"}}\n",
    ")"
   ]
  },
  {
   "cell_type": "code",
   "execution_count": 107,
   "metadata": {
    "collapsed": false
   },
   "outputs": [
    {
     "data": {
      "text/plain": [
       "(1127, 0)"
      ]
     },
     "execution_count": 107,
     "metadata": {},
     "output_type": "execute_result"
    }
   ],
   "source": [
    "result.matched_count, result.modified_count"
   ]
  },
  {
   "cell_type": "code",
   "execution_count": 108,
   "metadata": {
    "collapsed": false,
    "scrolled": true
   },
   "outputs": [
    {
     "data": {
      "text/plain": [
       "1127"
      ]
     },
     "execution_count": 108,
     "metadata": {},
     "output_type": "execute_result"
    }
   ],
   "source": [
    "db.materials.find({\"tags\": \"halide\"}).count()"
   ]
  },
  {
   "cell_type": "code",
   "execution_count": 110,
   "metadata": {
    "collapsed": true
   },
   "outputs": [],
   "source": [
    "result = db.materials.update_one(\n",
    "    {\"material_id\": \"mp-NaN\"},\n",
    "    {\"$set\": {\"elasticity.calculations.source\": \"Private communication\"}}\n",
    ")"
   ]
  },
  {
   "cell_type": "code",
   "execution_count": 111,
   "metadata": {
    "collapsed": false
   },
   "outputs": [
    {
     "data": {
      "text/plain": [
       "(0, 0)"
      ]
     },
     "execution_count": 111,
     "metadata": {},
     "output_type": "execute_result"
    }
   ],
   "source": [
    "result.matched_count, result.modified_count"
   ]
  },
  {
   "cell_type": "code",
   "execution_count": 130,
   "metadata": {
    "collapsed": true
   },
   "outputs": [],
   "source": [
    "result = db.materials.update_one(\n",
    "    {\"material_id\": \"mp-NaN\"},\n",
    "    {\"$set\": {\"elasticity.calculations.source\": \"Private communication\"}},\n",
    "    upsert=True\n",
    ")"
   ]
  },
  {
   "cell_type": "code",
   "execution_count": 131,
   "metadata": {
    "collapsed": false
   },
   "outputs": [
    {
     "data": {
      "text/plain": [
       "(0, 0, ObjectId('56cf4065c46979cbe90cc42a'))"
      ]
     },
     "execution_count": 131,
     "metadata": {},
     "output_type": "execute_result"
    }
   ],
   "source": [
    "result.matched_count, result.modified_count, result.upserted_id"
   ]
  },
  {
   "cell_type": "code",
   "execution_count": 132,
   "metadata": {
    "collapsed": false
   },
   "outputs": [
    {
     "data": {
      "text/plain": [
       "{'_id': ObjectId('56cf4065c46979cbe90cc42a'),\n",
       " 'elasticity': {'calculations': {'source': 'Private communication'}},\n",
       " 'material_id': 'mp-NaN'}"
      ]
     },
     "execution_count": 132,
     "metadata": {},
     "output_type": "execute_result"
    }
   ],
   "source": [
    "db.materials.find_one({\"material_id\": \"mp-NaN\"})"
   ]
  },
  {
   "cell_type": "markdown",
   "metadata": {},
   "source": [
    "### Removing"
   ]
  },
  {
   "cell_type": "code",
   "execution_count": 133,
   "metadata": {
    "collapsed": false
   },
   "outputs": [],
   "source": [
    "result = db.materials.delete_many({\"material_id\": \"mp-NaN\"})"
   ]
  },
  {
   "cell_type": "code",
   "execution_count": 139,
   "metadata": {
    "collapsed": false
   },
   "outputs": [],
   "source": [
    "result = db.materials.delete_many({\"nelements\": 1})"
   ]
  },
  {
   "cell_type": "code",
   "execution_count": 140,
   "metadata": {
    "collapsed": false
   },
   "outputs": [
    {
     "data": {
      "text/plain": [
       "419"
      ]
     },
     "execution_count": 140,
     "metadata": {},
     "output_type": "execute_result"
    }
   ],
   "source": [
    "result.deleted_count"
   ]
  },
  {
   "cell_type": "code",
   "execution_count": 141,
   "metadata": {
    "collapsed": true
   },
   "outputs": [],
   "source": [
    "result = db.materials.delete_many({})"
   ]
  },
  {
   "cell_type": "code",
   "execution_count": 142,
   "metadata": {
    "collapsed": false
   },
   "outputs": [
    {
     "data": {
      "text/plain": [
       "65721"
      ]
     },
     "execution_count": 142,
     "metadata": {},
     "output_type": "execute_result"
    }
   ],
   "source": [
    "result.deleted_count"
   ]
  },
  {
   "cell_type": "code",
   "execution_count": 143,
   "metadata": {
    "collapsed": false
   },
   "outputs": [
    {
     "data": {
      "text/plain": [
       "0"
      ]
     },
     "execution_count": 143,
     "metadata": {},
     "output_type": "execute_result"
    }
   ],
   "source": [
    "db.materials.count()"
   ]
  },
  {
   "cell_type": "code",
   "execution_count": 144,
   "metadata": {
    "collapsed": true
   },
   "outputs": [],
   "source": [
    "db.materials.drop()"
   ]
  },
  {
   "cell_type": "markdown",
   "metadata": {},
   "source": [
    "### Re(Importing)"
   ]
  },
  {
   "cell_type": "code",
   "execution_count": 149,
   "metadata": {
    "collapsed": true
   },
   "outputs": [],
   "source": [
    "import json\n",
    "from mongomock import MongoClient\n",
    "#from pymongo import MongoClient\n",
    "\n",
    "def reset_materials():\n",
    "    client = MongoClient()\n",
    "    db = client.swc\n",
    "    db.materials.drop()\n",
    "    with open('data/mongo-novice-materials.json') as f:\n",
    "        db.materials.insert_many(json.load(f))"
   ]
  },
  {
   "cell_type": "code",
   "execution_count": 153,
   "metadata": {
    "collapsed": false,
    "scrolled": true
   },
   "outputs": [
    {
     "name": "stdout",
     "output_type": "stream",
     "text": [
      "1 loop, best of 3: 3.03 s per loop\n"
     ]
    }
   ],
   "source": [
    "%timeit reset_materials()"
   ]
  },
  {
   "cell_type": "code",
   "execution_count": 163,
   "metadata": {
    "collapsed": true
   },
   "outputs": [],
   "source": [
    "with open('data/materials.mongoimportable.json', 'w') as outfile:\n",
    "    with open('data/mongo-novice-materials.json') as infile:\n",
    "        docs = json.load(infile)\n",
    "        outfile.writelines([json.dumps(doc)+'\\n' for doc in docs])"
   ]
  },
  {
   "cell_type": "code",
   "execution_count": 165,
   "metadata": {
    "collapsed": false
   },
   "outputs": [
    {
     "name": "stdout",
     "output_type": "stream",
     "text": [
      "connected to: 127.0.0.1\n",
      "2016-02-25T10:46:31.004-0800 \t\t\t53700\t17900/second\n",
      "2016-02-25T10:46:31.600-0800 check 9 66140\n",
      "2016-02-25T10:46:31.607-0800 imported 66140 objects\n"
     ]
    }
   ],
   "source": [
    "db.materials.drop()\n",
    "!mongoimport --db swc --collection materials < data/materials.mongoimportable.json"
   ]
  },
  {
   "cell_type": "markdown",
   "metadata": {},
   "source": [
    "### Aggregation"
   ]
  },
  {
   "cell_type": "code",
   "execution_count": 167,
   "metadata": {
    "collapsed": true
   },
   "outputs": [],
   "source": [
    "cursor = db.materials.aggregate(\n",
    "    [\n",
    "        {\"$group\": {\"_id\": \"$nelements\", \"count\": {\"$sum\": 1}}}\n",
    "    ]\n",
    ")"
   ]
  },
  {
   "cell_type": "code",
   "execution_count": 168,
   "metadata": {
    "collapsed": false
   },
   "outputs": [
    {
     "name": "stdout",
     "output_type": "stream",
     "text": [
      "{'_id': 8, 'count': 5}\n",
      "{'_id': 7, 'count': 68}\n",
      "{'_id': 5, 'count': 5890}\n",
      "{'_id': 4, 'count': 17561}\n",
      "{'_id': 6, 'count': 866}\n",
      "{'_id': 2, 'count': 9809}\n",
      "{'_id': 3, 'count': 31522}\n",
      "{'_id': 1, 'count': 419}\n"
     ]
    }
   ],
   "source": [
    "for doc in cursor:\n",
    "    print(doc)"
   ]
  },
  {
   "cell_type": "code",
   "execution_count": 170,
   "metadata": {
    "collapsed": false
   },
   "outputs": [
    {
     "name": "stdout",
     "output_type": "stream",
     "text": [
      "{'_id': 8, 'count': 5}\n",
      "{'_id': 1, 'count': 6}\n",
      "{'_id': 7, 'count': 65}\n",
      "{'_id': 5, 'count': 5484}\n",
      "{'_id': 4, 'count': 15113}\n",
      "{'_id': 6, 'count': 816}\n",
      "{'_id': 2, 'count': 1519}\n",
      "{'_id': 3, 'count': 15117}\n"
     ]
    }
   ],
   "source": [
    "cursor = db.materials.aggregate(\n",
    "    [\n",
    "        {\"$match\": {\"elements\": \"O\"}},\n",
    "        {\"$group\": {\"_id\": \"$nelements\", \"count\": {\"$sum\": 1}}}\n",
    "    ]\n",
    ")\n",
    "\n",
    "for doc in cursor:\n",
    "    print(doc)"
   ]
  },
  {
   "cell_type": "code",
   "execution_count": 173,
   "metadata": {
    "collapsed": false
   },
   "outputs": [
    {
     "name": "stdout",
     "output_type": "stream",
     "text": [
      "{'_id': 3, 'count': 15117}\n",
      "{'_id': 4, 'count': 15113}\n",
      "{'_id': 5, 'count': 5484}\n",
      "{'_id': 2, 'count': 1519}\n",
      "{'_id': 6, 'count': 816}\n",
      "{'_id': 7, 'count': 65}\n",
      "{'_id': 1, 'count': 6}\n",
      "{'_id': 8, 'count': 5}\n"
     ]
    }
   ],
   "source": [
    "cursor = db.materials.aggregate(\n",
    "    [\n",
    "        {\"$match\": {\"elements\": \"O\"}},\n",
    "        {\"$group\": {\"_id\": \"$nelements\", \"count\": {\"$sum\": 1}}},\n",
    "        {\"$sort\": {\"count\": -1}}\n",
    "    ]\n",
    ")\n",
    "\n",
    "for doc in cursor:\n",
    "    print(doc)"
   ]
  },
  {
   "cell_type": "code",
   "execution_count": 180,
   "metadata": {
    "collapsed": false
   },
   "outputs": [
    {
     "data": {
      "text/plain": [
       "{'_id': ObjectId('56cf4c04c46979cbe913d4af'),\n",
       " 'chemsys': 'Fe',\n",
       " 'elasticity': None,\n",
       " 'elements': ['Fe'],\n",
       " 'material_id': 'mp-568345',\n",
       " 'nelements': 1,\n",
       " 'pretty_formula': 'Fe',\n",
       " 'spacegroup': {'crystal_system': 'cubic',\n",
       "  'hall': '-P 4 2 3',\n",
       "  'number': 221,\n",
       "  'point_group': '4/mmm',\n",
       "  'source': 'spglib',\n",
       "  'symbol': 'Pm-3m'}}"
      ]
     },
     "execution_count": 180,
     "metadata": {},
     "output_type": "execute_result"
    }
   ],
   "source": [
    "db.materials.find_one()"
   ]
  },
  {
   "cell_type": "code",
   "execution_count": 181,
   "metadata": {
    "collapsed": false
   },
   "outputs": [
    {
     "name": "stdout",
     "output_type": "stream",
     "text": [
      "{'_id': 14, 'count': 5962, 'symbol': 'P2_1/c'}\n",
      "{'_id': 1, 'count': 4593, 'symbol': 'P1'}\n",
      "{'_id': 225, 'count': 4109, 'symbol': 'Fm-3m'}\n",
      "{'_id': 2, 'count': 4010, 'symbol': 'P-1'}\n",
      "{'_id': 62, 'count': 3562, 'symbol': 'Pmnb'}\n",
      "{'_id': 15, 'count': 2736, 'symbol': 'C2/c'}\n",
      "{'_id': 12, 'count': 2344, 'symbol': 'C2/m'}\n",
      "{'_id': 139, 'count': 1797, 'symbol': 'I4/mmm'}\n",
      "{'_id': 194, 'count': 1685, 'symbol': 'P6_3/mmc'}\n",
      "{'_id': 221, 'count': 1630, 'symbol': 'Pm-3m'}\n"
     ]
    }
   ],
   "source": [
    "cursor = db.materials.aggregate(\n",
    "    [\n",
    "        {\"$group\": {\n",
    "                \"_id\": \"$spacegroup.number\",\n",
    "                \"count\": {\"$sum\": 1},\n",
    "                \"symbol\": {\"$first\": \"$spacegroup.symbol\"},\n",
    "            }},\n",
    "        {\"$sort\": {\"count\": -1}},\n",
    "        {\"$limit\": 10}\n",
    "    ]\n",
    ")\n",
    "\n",
    "for doc in cursor:\n",
    "    print(doc)"
   ]
  },
  {
   "cell_type": "code",
   "execution_count": 203,
   "metadata": {
    "collapsed": true
   },
   "outputs": [],
   "source": [
    "def get_chemistry(doc):\n",
    "    anion = db.elements.find(\n",
    "        {\"Symbol\": {\"$in\": doc[\"elements\"]}},\n",
    "        {\"Symbol\": 1, \"X\": 1, \"_id\": 0}\n",
    "    ).sort([('X', -1)])[0][\"Symbol\"]\n",
    "    if anion == \"O\":\n",
    "        return \"Oxide\"\n",
    "    elif anion == \"S\":\n",
    "        return \"Sulfide\"\n",
    "    elif anion == \"F\":\n",
    "        return \"Fluoride\"\n",
    "    elif anion == \"Cl\":\n",
    "        return \"Chloride\"\n",
    "    return None"
   ]
  },
  {
   "cell_type": "code",
   "execution_count": 204,
   "metadata": {
    "collapsed": false
   },
   "outputs": [],
   "source": [
    "for doc in db.materials.find({\"elements\": {\"$in\": [\"O\", \"S\", \"F\", \"Cl\"]}}, {\"elements\": 1}):\n",
    "    anion = get_chemistry(doc)\n",
    "    db.materials.update_one({\"_id\": doc[\"_id\"]}, {\"$set\": {\"anion_chemistry\": anion}})"
   ]
  },
  {
   "cell_type": "code",
   "execution_count": 200,
   "metadata": {
    "collapsed": false
   },
   "outputs": [
    {
     "name": "stdout",
     "output_type": "stream",
     "text": [
      "{'_id': 14, 'count': 4013, 'symbol': 'P2_1/c'}\n",
      "{'_id': 1, 'count': 3424, 'symbol': 'P1'}\n",
      "{'_id': 2, 'count': 3039, 'symbol': 'P-1'}\n",
      "{'_id': 15, 'count': 1856, 'symbol': 'C2/c'}\n",
      "{'_id': 62, 'count': 1702, 'symbol': 'Pmnb'}\n",
      "{'_id': 12, 'count': 1415, 'symbol': 'C2/m'}\n",
      "{'_id': 8, 'count': 975, 'symbol': 'Cm'}\n",
      "{'_id': 11, 'count': 877, 'symbol': 'P2_1/m'}\n",
      "{'_id': 4, 'count': 759, 'symbol': 'P2_1'}\n",
      "{'_id': 166, 'count': 606, 'symbol': 'R-3m'}\n"
     ]
    }
   ],
   "source": [
    "cursor = db.materials.aggregate(\n",
    "    [\n",
    "        {\"$match\": {\"anion_chemistry\": \"Oxide\"}},\n",
    "        {\"$group\": {\n",
    "                \"_id\": \"$spacegroup.number\",\n",
    "                \"count\": {\"$sum\": 1},\n",
    "                \"symbol\": {\"$first\": \"$spacegroup.symbol\"},\n",
    "            }},\n",
    "        {\"$sort\": {\"count\": -1}},\n",
    "        {\"$limit\": 10}\n",
    "    ]\n",
    ")\n",
    "\n",
    "for doc in cursor:\n",
    "    print(doc)"
   ]
  },
  {
   "cell_type": "markdown",
   "metadata": {},
   "source": [
    "### Indexes"
   ]
  },
  {
   "cell_type": "code",
   "execution_count": 293,
   "metadata": {
    "collapsed": false
   },
   "outputs": [
    {
     "name": "stdout",
     "output_type": "stream",
     "text": [
      "10 loops, best of 3: 47.1 ms per loop\n"
     ]
    }
   ],
   "source": [
    "%%timeit\n",
    "\n",
    "db.materials.distinct(\"spacegroup.crystal_system\")"
   ]
  },
  {
   "cell_type": "code",
   "execution_count": 294,
   "metadata": {
    "collapsed": false
   },
   "outputs": [
    {
     "data": {
      "text/plain": [
       "'spacegroup.crystal_system_1'"
      ]
     },
     "execution_count": 294,
     "metadata": {},
     "output_type": "execute_result"
    }
   ],
   "source": [
    "db.materials.create_index([(\"spacegroup.crystal_system\", 1)])"
   ]
  },
  {
   "cell_type": "code",
   "execution_count": 299,
   "metadata": {
    "collapsed": false
   },
   "outputs": [
    {
     "name": "stdout",
     "output_type": "stream",
     "text": [
      "{'_id_': {'key': [('_id', 1)], 'ns': 'swc.materials', 'v': 1},\n",
      " 'spacegroup.crystal_system_1': {'key': [('spacegroup.crystal_system', 1)],\n",
      "                                 'ns': 'swc.materials',\n",
      "                                 'v': 1}}\n"
     ]
    }
   ],
   "source": [
    "pprint(db.materials.index_information())"
   ]
  },
  {
   "cell_type": "code",
   "execution_count": 301,
   "metadata": {
    "collapsed": false
   },
   "outputs": [
    {
     "name": "stdout",
     "output_type": "stream",
     "text": [
      "1000 loops, best of 3: 296 µs per loop\n"
     ]
    }
   ],
   "source": [
    "%%timeit\n",
    "\n",
    "db.materials.distinct(\"spacegroup.crystal_system\")"
   ]
  },
  {
   "cell_type": "code",
   "execution_count": 304,
   "metadata": {
    "collapsed": false
   },
   "outputs": [
    {
     "name": "stdout",
     "output_type": "stream",
     "text": [
      "100 loops, best of 3: 12.1 ms per loop\n"
     ]
    }
   ],
   "source": [
    "%timeit db.materials.find_one({\"material_id\": \"mp-49\"}, {\"pretty_formula\": 1, \"_id\": 0})"
   ]
  },
  {
   "cell_type": "code",
   "execution_count": 306,
   "metadata": {
    "collapsed": false
   },
   "outputs": [
    {
     "data": {
      "text/plain": [
       "'material_id_1_pretty_formula_1'"
      ]
     },
     "execution_count": 306,
     "metadata": {},
     "output_type": "execute_result"
    }
   ],
   "source": [
    "db.materials.create_index([(\"material_id\", 1), (\"pretty_formula\", 1)])"
   ]
  },
  {
   "cell_type": "code",
   "execution_count": 307,
   "metadata": {
    "collapsed": false,
    "scrolled": true
   },
   "outputs": [
    {
     "name": "stdout",
     "output_type": "stream",
     "text": [
      "1000 loops, best of 3: 187 µs per loop\n"
     ]
    }
   ],
   "source": [
    "%timeit db.materials.find_one({\"material_id\": \"mp-49\"}, {\"pretty_formula\": 1, \"_id\": 0})"
   ]
  },
  {
   "cell_type": "code",
   "execution_count": 308,
   "metadata": {
    "collapsed": false
   },
   "outputs": [
    {
     "data": {
      "text/plain": [
       "'pretty_formula_1_material_id_1'"
      ]
     },
     "execution_count": 308,
     "metadata": {},
     "output_type": "execute_result"
    }
   ],
   "source": [
    "db.materials.drop_index([(\"material_id\", 1), (\"pretty_formula\", 1)])\n",
    "db.materials.create_index([(\"pretty_formula\", 1), (\"material_id\", 1)])"
   ]
  },
  {
   "cell_type": "code",
   "execution_count": 309,
   "metadata": {
    "collapsed": false
   },
   "outputs": [
    {
     "name": "stdout",
     "output_type": "stream",
     "text": [
      "100 loops, best of 3: 12.1 ms per loop\n"
     ]
    }
   ],
   "source": [
    "%timeit db.materials.find_one({\"material_id\": \"mp-49\"}, {\"pretty_formula\": 1, \"_id\": 0})"
   ]
  }
 ],
 "metadata": {
  "kernelspec": {
   "display_name": "Python 3",
   "language": "python",
   "name": "python3"
  },
  "language_info": {
   "codemirror_mode": {
    "name": "ipython",
    "version": 3
   },
   "file_extension": ".py",
   "mimetype": "text/x-python",
   "name": "python",
   "nbconvert_exporter": "python",
   "pygments_lexer": "ipython3",
   "version": "3.5.0"
  }
 },
 "nbformat": 4,
 "nbformat_minor": 0
}
